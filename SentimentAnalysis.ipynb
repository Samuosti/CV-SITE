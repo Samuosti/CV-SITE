{
  "nbformat": 4,
  "nbformat_minor": 0,
  "metadata": {
    "colab": {
      "provenance": [],
      "authorship_tag": "ABX9TyNThWbJCTyMBgwh0odRUNvI",
      "include_colab_link": true
    },
    "kernelspec": {
      "name": "python3",
      "display_name": "Python 3"
    },
    "language_info": {
      "name": "python"
    }
  },
  "cells": [
    {
      "cell_type": "markdown",
      "metadata": {
        "id": "view-in-github",
        "colab_type": "text"
      },
      "source": [
        "<a href=\"https://colab.research.google.com/github/Samuosti/CV-SITE/blob/main/SentimentAnalysis.ipynb\" target=\"_parent\"><img src=\"https://colab.research.google.com/assets/colab-badge.svg\" alt=\"Open In Colab\"/></a>"
      ]
    },
    {
      "cell_type": "markdown",
      "source": [
        "**News Scraping**"
      ],
      "metadata": {
        "id": "yVgOjrU4-GxF"
      }
    },
    {
      "cell_type": "code",
      "execution_count": 93,
      "metadata": {
        "colab": {
          "base_uri": "https://localhost:8080/"
        },
        "id": "40-Gji-l2g_U",
        "outputId": "4e008f58-d1d5-4c04-8bbe-927c705ada44"
      },
      "outputs": [
        {
          "output_type": "stream",
          "name": "stdout",
          "text": [
            "Looking in indexes: https://pypi.org/simple, https://us-python.pkg.dev/colab-wheels/public/simple/\n",
            "Requirement already satisfied: GoogleNews in /usr/local/lib/python3.8/dist-packages (1.6.6)\n",
            "Requirement already satisfied: beautifulsoup4 in /usr/local/lib/python3.8/dist-packages (from GoogleNews) (4.6.3)\n",
            "Requirement already satisfied: dateparser in /usr/local/lib/python3.8/dist-packages (from GoogleNews) (1.1.6)\n",
            "Requirement already satisfied: python-dateutil in /usr/local/lib/python3.8/dist-packages (from GoogleNews) (2.8.2)\n",
            "Requirement already satisfied: tzlocal in /usr/local/lib/python3.8/dist-packages (from dateparser->GoogleNews) (1.5.1)\n",
            "Requirement already satisfied: regex!=2019.02.19,!=2021.8.27 in /usr/local/lib/python3.8/dist-packages (from dateparser->GoogleNews) (2022.6.2)\n",
            "Requirement already satisfied: pytz in /usr/local/lib/python3.8/dist-packages (from dateparser->GoogleNews) (2022.7)\n",
            "Requirement already satisfied: six>=1.5 in /usr/local/lib/python3.8/dist-packages (from python-dateutil->GoogleNews) (1.15.0)\n",
            "Looking in indexes: https://pypi.org/simple, https://us-python.pkg.dev/colab-wheels/public/simple/\n",
            "Requirement already satisfied: newspaper3k in /usr/local/lib/python3.8/dist-packages (0.2.8)\n",
            "Requirement already satisfied: PyYAML>=3.11 in /usr/local/lib/python3.8/dist-packages (from newspaper3k) (6.0)\n",
            "Requirement already satisfied: requests>=2.10.0 in /usr/local/lib/python3.8/dist-packages (from newspaper3k) (2.25.1)\n",
            "Requirement already satisfied: feedparser>=5.2.1 in /usr/local/lib/python3.8/dist-packages (from newspaper3k) (6.0.10)\n",
            "Requirement already satisfied: feedfinder2>=0.0.4 in /usr/local/lib/python3.8/dist-packages (from newspaper3k) (0.0.4)\n",
            "Requirement already satisfied: jieba3k>=0.35.1 in /usr/local/lib/python3.8/dist-packages (from newspaper3k) (0.35.1)\n",
            "Requirement already satisfied: python-dateutil>=2.5.3 in /usr/local/lib/python3.8/dist-packages (from newspaper3k) (2.8.2)\n",
            "Requirement already satisfied: Pillow>=3.3.0 in /usr/local/lib/python3.8/dist-packages (from newspaper3k) (7.1.2)\n",
            "Requirement already satisfied: tinysegmenter==0.3 in /usr/local/lib/python3.8/dist-packages (from newspaper3k) (0.3)\n",
            "Requirement already satisfied: cssselect>=0.9.2 in /usr/local/lib/python3.8/dist-packages (from newspaper3k) (1.2.0)\n",
            "Requirement already satisfied: nltk>=3.2.1 in /usr/local/lib/python3.8/dist-packages (from newspaper3k) (3.7)\n",
            "Requirement already satisfied: lxml>=3.6.0 in /usr/local/lib/python3.8/dist-packages (from newspaper3k) (4.9.2)\n",
            "Requirement already satisfied: beautifulsoup4>=4.4.1 in /usr/local/lib/python3.8/dist-packages (from newspaper3k) (4.6.3)\n",
            "Requirement already satisfied: tldextract>=2.0.1 in /usr/local/lib/python3.8/dist-packages (from newspaper3k) (3.4.0)\n",
            "Requirement already satisfied: six in /usr/local/lib/python3.8/dist-packages (from feedfinder2>=0.0.4->newspaper3k) (1.15.0)\n",
            "Requirement already satisfied: sgmllib3k in /usr/local/lib/python3.8/dist-packages (from feedparser>=5.2.1->newspaper3k) (1.0.0)\n",
            "Requirement already satisfied: joblib in /usr/local/lib/python3.8/dist-packages (from nltk>=3.2.1->newspaper3k) (1.2.0)\n",
            "Requirement already satisfied: tqdm in /usr/local/lib/python3.8/dist-packages (from nltk>=3.2.1->newspaper3k) (4.64.1)\n",
            "Requirement already satisfied: click in /usr/local/lib/python3.8/dist-packages (from nltk>=3.2.1->newspaper3k) (7.1.2)\n",
            "Requirement already satisfied: regex>=2021.8.3 in /usr/local/lib/python3.8/dist-packages (from nltk>=3.2.1->newspaper3k) (2022.6.2)\n",
            "Requirement already satisfied: chardet<5,>=3.0.2 in /usr/local/lib/python3.8/dist-packages (from requests>=2.10.0->newspaper3k) (4.0.0)\n",
            "Requirement already satisfied: urllib3<1.27,>=1.21.1 in /usr/local/lib/python3.8/dist-packages (from requests>=2.10.0->newspaper3k) (1.24.3)\n",
            "Requirement already satisfied: idna<3,>=2.5 in /usr/local/lib/python3.8/dist-packages (from requests>=2.10.0->newspaper3k) (2.10)\n",
            "Requirement already satisfied: certifi>=2017.4.17 in /usr/local/lib/python3.8/dist-packages (from requests>=2.10.0->newspaper3k) (2022.12.7)\n",
            "Requirement already satisfied: filelock>=3.0.8 in /usr/local/lib/python3.8/dist-packages (from tldextract>=2.0.1->newspaper3k) (3.9.0)\n",
            "Requirement already satisfied: requests-file>=1.4 in /usr/local/lib/python3.8/dist-packages (from tldextract>=2.0.1->newspaper3k) (1.5.1)\n"
          ]
        }
      ],
      "source": [
        "# Install libraries\n",
        "!pip install GoogleNews\n",
        "!pip install newspaper3k"
      ]
    },
    {
      "cell_type": "code",
      "source": [
        "# Import libraries\n",
        "# GoogleNews Documentation : https://pypi.org/project/GoogleNews/\n",
        "from GoogleNews import GoogleNews\n",
        "from newspaper import Article\n",
        "from newspaper import Config\n",
        "from tqdm import tqdm\n",
        "import pandas as pd\n",
        "import nltk  # NLP library"
      ],
      "metadata": {
        "id": "_KdjfhIT28qT"
      },
      "execution_count": 94,
      "outputs": []
    },
    {
      "cell_type": "code",
      "source": [
        "# This tokenizer divides a text into a list of sentences by using an unsupervised algorithm to build a model for abbreviation words, collocations, and words that start sentences.\n",
        "nltk.download('punkt')"
      ],
      "metadata": {
        "colab": {
          "base_uri": "https://localhost:8080/"
        },
        "id": "PKKeiWrh3Xr_",
        "outputId": "743ea0b0-1231-4ae3-de46-882c605ddb33"
      },
      "execution_count": 95,
      "outputs": [
        {
          "output_type": "stream",
          "name": "stderr",
          "text": [
            "[nltk_data] Downloading package punkt to /root/nltk_data...\n",
            "[nltk_data]   Package punkt is already up-to-date!\n"
          ]
        },
        {
          "output_type": "execute_result",
          "data": {
            "text/plain": [
              "True"
            ]
          },
          "metadata": {},
          "execution_count": 95
        }
      ]
    },
    {
      "cell_type": "code",
      "source": [
        "# Config to avoid 403 forbidden error\n",
        "user_agent = 'Mozilla/5.0 (Macintosh; Intel Mac OS X 10_11_5) AppleWebKit/537.36 (KHTML, like Gecko) Chrome/50.0.2661.102 Safari/537.36'\n",
        "config = Config()\n",
        "config.browser_user_agent = user_agent\n",
        "config.request_timeout = 20"
      ],
      "metadata": {
        "id": "QHcyO3LY3cwo"
      },
      "execution_count": 96,
      "outputs": []
    },
    {
      "cell_type": "code",
      "source": [
        "# Initializing\n",
        "googlenews = GoogleNews()\n"
      ],
      "metadata": {
        "id": "c_vHwtmw3hVy"
      },
      "execution_count": 97,
      "outputs": []
    },
    {
      "cell_type": "code",
      "source": [
        "# Clear previous search\n",
        "googlenews.clear()"
      ],
      "metadata": {
        "id": "onqX-r8p3lYQ"
      },
      "execution_count": 98,
      "outputs": []
    },
    {
      "cell_type": "code",
      "source": [
        "# Settings\n",
        "googlenews = GoogleNews(lang='en',start='01/06/2023',end='01/06/2023')"
      ],
      "metadata": {
        "id": "jd6lMxTc3n0p"
      },
      "execution_count": 99,
      "outputs": []
    },
    {
      "cell_type": "code",
      "source": [
        "# Search \n",
        "googlenews.search('Italy')\n",
        "print(f\"Articles found:\", googlenews.total_count())"
      ],
      "metadata": {
        "colab": {
          "base_uri": "https://localhost:8080/"
        },
        "id": "9kqPVw-F3q72",
        "outputId": "d7bf1570-a161-47bf-f72a-fe9ae40f4bac"
      },
      "execution_count": 100,
      "outputs": [
        {
          "output_type": "stream",
          "name": "stdout",
          "text": [
            "Articles found: 50300\n"
          ]
        }
      ]
    },
    {
      "cell_type": "code",
      "source": [
        "# Results\n",
        "result = googlenews.result()"
      ],
      "metadata": {
        "id": "FU0ir8__3wPa"
      },
      "execution_count": 101,
      "outputs": []
    },
    {
      "cell_type": "code",
      "source": [
        "# Convert to DataFrame\n",
        "df = pd.DataFrame(result)\n",
        "df.head(20)"
      ],
      "metadata": {
        "colab": {
          "base_uri": "https://localhost:8080/",
          "height": 573
        },
        "id": "Bj46b8rE3zlD",
        "outputId": "3793792a-de45-4993-b591-f8026f1cfd12"
      },
      "execution_count": 102,
      "outputs": [
        {
          "output_type": "execute_result",
          "data": {
            "text/plain": [
              "                                               title           media  \\\n",
              "0      Former star Italy striker Vialli dies aged 58         Reuters   \n",
              "1  Italy Mourns The Death Of Legendary Striker Gi...          Forbes   \n",
              "2  Italy’s football star Gianluca Vialli dies age...      Al Jazeera   \n",
              "3  United Cup SF Preview: Will Berrettini Seal It...        ATP Tour   \n",
              "4  Italy to face US in United Cup final after Bro...         AP News   \n",
              "5  Tennis-United States to battle Italy in United...        SaltWire   \n",
              "6  Musetti Extends Italy's Lead After Trevisan Wi...        ATP Tour   \n",
              "7  Italy's migrant rules 'contradict' internation...  Wanted in Rome   \n",
              "8  Italian man pleads guilty to book fraud scheme...      Al Jazeera   \n",
              "9  Italy’s pasta row: A scientist on how to cook ...             ABC   \n",
              "\n",
              "         date                   datetime  \\\n",
              "0  1 week ago 2023-01-06 12:17:38.402243   \n",
              "1  6 days ago 2023-01-07 12:17:38.432058   \n",
              "2  1 week ago 2023-01-06 12:17:38.455113   \n",
              "3  6 days ago 2023-01-07 12:17:38.476049   \n",
              "4  6 days ago 2023-01-07 12:17:38.496362   \n",
              "5  6 days ago 2023-01-07 12:17:38.527040   \n",
              "6  6 days ago 2023-01-07 12:17:38.554932   \n",
              "7  6 days ago 2023-01-07 12:17:38.575012   \n",
              "8  6 days ago 2023-01-07 12:17:38.596647   \n",
              "9  6 days ago 2023-01-07 12:17:38.617313   \n",
              "\n",
              "                                                desc  \\\n",
              "0  MILAN, Jan 6 (Reuters) - Former Italy striker ...   \n",
              "1  The Italian soccer community mourns the death ...   \n",
              "2  Former Italian football star Gianluca Vialli h...   \n",
              "3  Matteo Berrettini will try to claim his third ...   \n",
              "4  Stefanos Tsitsipas kept Greek hopes alive by d...   \n",
              "5  Italy came into their clash with Greece holdin...   \n",
              "6  Lorenzo Musetti remains unbeaten at the United...   \n",
              "7  Twenty charities on Thursday slammed new rules...   \n",
              "8  An Italian man accused of fraudulently obtaini...   \n",
              "9  Italians are notoriously — and understandably ...   \n",
              "\n",
              "                                                link  \\\n",
              "0  https://www.reuters.com/lifestyle/sports/forme...   \n",
              "1  https://www.forbes.com/sites/danieleproch/2023...   \n",
              "2  https://www.aljazeera.com/sports/2023/1/6/ital...   \n",
              "3  https://www.atptour.com/en/news/united-cup-sf-...   \n",
              "4  https://apnews.com/article/sports-greece-taylo...   \n",
              "5  https://www.saltwire.com/cape-breton/sports/te...   \n",
              "6  https://www.atptour.com/en/news/greece-italy-u...   \n",
              "7  https://www.wantedinrome.com/news/italys-migra...   \n",
              "8  https://www.aljazeera.com/news/2023/1/7/italia...   \n",
              "9  https://www.abc.net.au/news/2023-01-07/how-sav...   \n",
              "\n",
              "                                                 img  \n",
              "0  data:image/gif;base64,R0lGODlhAQABAIAAAP//////...  \n",
              "1  data:image/gif;base64,R0lGODlhAQABAIAAAP//////...  \n",
              "2  data:image/gif;base64,R0lGODlhAQABAIAAAP//////...  \n",
              "3  data:image/gif;base64,R0lGODlhAQABAIAAAP//////...  \n",
              "4  data:image/gif;base64,R0lGODlhAQABAIAAAP//////...  \n",
              "5  data:image/gif;base64,R0lGODlhAQABAIAAAP//////...  \n",
              "6  data:image/gif;base64,R0lGODlhAQABAIAAAP//////...  \n",
              "7  data:image/gif;base64,R0lGODlhAQABAIAAAP//////...  \n",
              "8  data:image/gif;base64,R0lGODlhAQABAIAAAP//////...  \n",
              "9  data:image/gif;base64,R0lGODlhAQABAIAAAP//////...  "
            ],
            "text/html": [
              "\n",
              "  <div id=\"df-b3c350e2-edab-4c38-9e70-c994fdd08002\">\n",
              "    <div class=\"colab-df-container\">\n",
              "      <div>\n",
              "<style scoped>\n",
              "    .dataframe tbody tr th:only-of-type {\n",
              "        vertical-align: middle;\n",
              "    }\n",
              "\n",
              "    .dataframe tbody tr th {\n",
              "        vertical-align: top;\n",
              "    }\n",
              "\n",
              "    .dataframe thead th {\n",
              "        text-align: right;\n",
              "    }\n",
              "</style>\n",
              "<table border=\"1\" class=\"dataframe\">\n",
              "  <thead>\n",
              "    <tr style=\"text-align: right;\">\n",
              "      <th></th>\n",
              "      <th>title</th>\n",
              "      <th>media</th>\n",
              "      <th>date</th>\n",
              "      <th>datetime</th>\n",
              "      <th>desc</th>\n",
              "      <th>link</th>\n",
              "      <th>img</th>\n",
              "    </tr>\n",
              "  </thead>\n",
              "  <tbody>\n",
              "    <tr>\n",
              "      <th>0</th>\n",
              "      <td>Former star Italy striker Vialli dies aged 58</td>\n",
              "      <td>Reuters</td>\n",
              "      <td>1 week ago</td>\n",
              "      <td>2023-01-06 12:17:38.402243</td>\n",
              "      <td>MILAN, Jan 6 (Reuters) - Former Italy striker ...</td>\n",
              "      <td>https://www.reuters.com/lifestyle/sports/forme...</td>\n",
              "      <td>data:image/gif;base64,R0lGODlhAQABAIAAAP//////...</td>\n",
              "    </tr>\n",
              "    <tr>\n",
              "      <th>1</th>\n",
              "      <td>Italy Mourns The Death Of Legendary Striker Gi...</td>\n",
              "      <td>Forbes</td>\n",
              "      <td>6 days ago</td>\n",
              "      <td>2023-01-07 12:17:38.432058</td>\n",
              "      <td>The Italian soccer community mourns the death ...</td>\n",
              "      <td>https://www.forbes.com/sites/danieleproch/2023...</td>\n",
              "      <td>data:image/gif;base64,R0lGODlhAQABAIAAAP//////...</td>\n",
              "    </tr>\n",
              "    <tr>\n",
              "      <th>2</th>\n",
              "      <td>Italy’s football star Gianluca Vialli dies age...</td>\n",
              "      <td>Al Jazeera</td>\n",
              "      <td>1 week ago</td>\n",
              "      <td>2023-01-06 12:17:38.455113</td>\n",
              "      <td>Former Italian football star Gianluca Vialli h...</td>\n",
              "      <td>https://www.aljazeera.com/sports/2023/1/6/ital...</td>\n",
              "      <td>data:image/gif;base64,R0lGODlhAQABAIAAAP//////...</td>\n",
              "    </tr>\n",
              "    <tr>\n",
              "      <th>3</th>\n",
              "      <td>United Cup SF Preview: Will Berrettini Seal It...</td>\n",
              "      <td>ATP Tour</td>\n",
              "      <td>6 days ago</td>\n",
              "      <td>2023-01-07 12:17:38.476049</td>\n",
              "      <td>Matteo Berrettini will try to claim his third ...</td>\n",
              "      <td>https://www.atptour.com/en/news/united-cup-sf-...</td>\n",
              "      <td>data:image/gif;base64,R0lGODlhAQABAIAAAP//////...</td>\n",
              "    </tr>\n",
              "    <tr>\n",
              "      <th>4</th>\n",
              "      <td>Italy to face US in United Cup final after Bro...</td>\n",
              "      <td>AP News</td>\n",
              "      <td>6 days ago</td>\n",
              "      <td>2023-01-07 12:17:38.496362</td>\n",
              "      <td>Stefanos Tsitsipas kept Greek hopes alive by d...</td>\n",
              "      <td>https://apnews.com/article/sports-greece-taylo...</td>\n",
              "      <td>data:image/gif;base64,R0lGODlhAQABAIAAAP//////...</td>\n",
              "    </tr>\n",
              "    <tr>\n",
              "      <th>5</th>\n",
              "      <td>Tennis-United States to battle Italy in United...</td>\n",
              "      <td>SaltWire</td>\n",
              "      <td>6 days ago</td>\n",
              "      <td>2023-01-07 12:17:38.527040</td>\n",
              "      <td>Italy came into their clash with Greece holdin...</td>\n",
              "      <td>https://www.saltwire.com/cape-breton/sports/te...</td>\n",
              "      <td>data:image/gif;base64,R0lGODlhAQABAIAAAP//////...</td>\n",
              "    </tr>\n",
              "    <tr>\n",
              "      <th>6</th>\n",
              "      <td>Musetti Extends Italy's Lead After Trevisan Wi...</td>\n",
              "      <td>ATP Tour</td>\n",
              "      <td>6 days ago</td>\n",
              "      <td>2023-01-07 12:17:38.554932</td>\n",
              "      <td>Lorenzo Musetti remains unbeaten at the United...</td>\n",
              "      <td>https://www.atptour.com/en/news/greece-italy-u...</td>\n",
              "      <td>data:image/gif;base64,R0lGODlhAQABAIAAAP//////...</td>\n",
              "    </tr>\n",
              "    <tr>\n",
              "      <th>7</th>\n",
              "      <td>Italy's migrant rules 'contradict' internation...</td>\n",
              "      <td>Wanted in Rome</td>\n",
              "      <td>6 days ago</td>\n",
              "      <td>2023-01-07 12:17:38.575012</td>\n",
              "      <td>Twenty charities on Thursday slammed new rules...</td>\n",
              "      <td>https://www.wantedinrome.com/news/italys-migra...</td>\n",
              "      <td>data:image/gif;base64,R0lGODlhAQABAIAAAP//////...</td>\n",
              "    </tr>\n",
              "    <tr>\n",
              "      <th>8</th>\n",
              "      <td>Italian man pleads guilty to book fraud scheme...</td>\n",
              "      <td>Al Jazeera</td>\n",
              "      <td>6 days ago</td>\n",
              "      <td>2023-01-07 12:17:38.596647</td>\n",
              "      <td>An Italian man accused of fraudulently obtaini...</td>\n",
              "      <td>https://www.aljazeera.com/news/2023/1/7/italia...</td>\n",
              "      <td>data:image/gif;base64,R0lGODlhAQABAIAAAP//////...</td>\n",
              "    </tr>\n",
              "    <tr>\n",
              "      <th>9</th>\n",
              "      <td>Italy’s pasta row: A scientist on how to cook ...</td>\n",
              "      <td>ABC</td>\n",
              "      <td>6 days ago</td>\n",
              "      <td>2023-01-07 12:17:38.617313</td>\n",
              "      <td>Italians are notoriously — and understandably ...</td>\n",
              "      <td>https://www.abc.net.au/news/2023-01-07/how-sav...</td>\n",
              "      <td>data:image/gif;base64,R0lGODlhAQABAIAAAP//////...</td>\n",
              "    </tr>\n",
              "  </tbody>\n",
              "</table>\n",
              "</div>\n",
              "      <button class=\"colab-df-convert\" onclick=\"convertToInteractive('df-b3c350e2-edab-4c38-9e70-c994fdd08002')\"\n",
              "              title=\"Convert this dataframe to an interactive table.\"\n",
              "              style=\"display:none;\">\n",
              "        \n",
              "  <svg xmlns=\"http://www.w3.org/2000/svg\" height=\"24px\"viewBox=\"0 0 24 24\"\n",
              "       width=\"24px\">\n",
              "    <path d=\"M0 0h24v24H0V0z\" fill=\"none\"/>\n",
              "    <path d=\"M18.56 5.44l.94 2.06.94-2.06 2.06-.94-2.06-.94-.94-2.06-.94 2.06-2.06.94zm-11 1L8.5 8.5l.94-2.06 2.06-.94-2.06-.94L8.5 2.5l-.94 2.06-2.06.94zm10 10l.94 2.06.94-2.06 2.06-.94-2.06-.94-.94-2.06-.94 2.06-2.06.94z\"/><path d=\"M17.41 7.96l-1.37-1.37c-.4-.4-.92-.59-1.43-.59-.52 0-1.04.2-1.43.59L10.3 9.45l-7.72 7.72c-.78.78-.78 2.05 0 2.83L4 21.41c.39.39.9.59 1.41.59.51 0 1.02-.2 1.41-.59l7.78-7.78 2.81-2.81c.8-.78.8-2.07 0-2.86zM5.41 20L4 18.59l7.72-7.72 1.47 1.35L5.41 20z\"/>\n",
              "  </svg>\n",
              "      </button>\n",
              "      \n",
              "  <style>\n",
              "    .colab-df-container {\n",
              "      display:flex;\n",
              "      flex-wrap:wrap;\n",
              "      gap: 12px;\n",
              "    }\n",
              "\n",
              "    .colab-df-convert {\n",
              "      background-color: #E8F0FE;\n",
              "      border: none;\n",
              "      border-radius: 50%;\n",
              "      cursor: pointer;\n",
              "      display: none;\n",
              "      fill: #1967D2;\n",
              "      height: 32px;\n",
              "      padding: 0 0 0 0;\n",
              "      width: 32px;\n",
              "    }\n",
              "\n",
              "    .colab-df-convert:hover {\n",
              "      background-color: #E2EBFA;\n",
              "      box-shadow: 0px 1px 2px rgba(60, 64, 67, 0.3), 0px 1px 3px 1px rgba(60, 64, 67, 0.15);\n",
              "      fill: #174EA6;\n",
              "    }\n",
              "\n",
              "    [theme=dark] .colab-df-convert {\n",
              "      background-color: #3B4455;\n",
              "      fill: #D2E3FC;\n",
              "    }\n",
              "\n",
              "    [theme=dark] .colab-df-convert:hover {\n",
              "      background-color: #434B5C;\n",
              "      box-shadow: 0px 1px 3px 1px rgba(0, 0, 0, 0.15);\n",
              "      filter: drop-shadow(0px 1px 2px rgba(0, 0, 0, 0.3));\n",
              "      fill: #FFFFFF;\n",
              "    }\n",
              "  </style>\n",
              "\n",
              "      <script>\n",
              "        const buttonEl =\n",
              "          document.querySelector('#df-b3c350e2-edab-4c38-9e70-c994fdd08002 button.colab-df-convert');\n",
              "        buttonEl.style.display =\n",
              "          google.colab.kernel.accessAllowed ? 'block' : 'none';\n",
              "\n",
              "        async function convertToInteractive(key) {\n",
              "          const element = document.querySelector('#df-b3c350e2-edab-4c38-9e70-c994fdd08002');\n",
              "          const dataTable =\n",
              "            await google.colab.kernel.invokeFunction('convertToInteractive',\n",
              "                                                     [key], {});\n",
              "          if (!dataTable) return;\n",
              "\n",
              "          const docLinkHtml = 'Like what you see? Visit the ' +\n",
              "            '<a target=\"_blank\" href=https://colab.research.google.com/notebooks/data_table.ipynb>data table notebook</a>'\n",
              "            + ' to learn more about interactive tables.';\n",
              "          element.innerHTML = '';\n",
              "          dataTable['output_type'] = 'display_data';\n",
              "          await google.colab.output.renderOutput(dataTable, element);\n",
              "          const docLink = document.createElement('div');\n",
              "          docLink.innerHTML = docLinkHtml;\n",
              "          element.appendChild(docLink);\n",
              "        }\n",
              "      </script>\n",
              "    </div>\n",
              "  </div>\n",
              "  "
            ]
          },
          "metadata": {},
          "execution_count": 102
        }
      ]
    },
    {
      "cell_type": "code",
      "source": [
        "# Checking one article\n",
        "df.iloc[8]['link']"
      ],
      "metadata": {
        "colab": {
          "base_uri": "https://localhost:8080/",
          "height": 35
        },
        "id": "KN7619G434jX",
        "outputId": "56f87195-97f3-46ea-a7dd-f436d47e099e"
      },
      "execution_count": 103,
      "outputs": [
        {
          "output_type": "execute_result",
          "data": {
            "text/plain": [
              "'https://www.aljazeera.com/news/2023/1/7/italian-man-pleads-guilty-to-book-fraud-scheme-in-us-court'"
            ],
            "application/vnd.google.colaboratory.intrinsic+json": {
              "type": "string"
            }
          },
          "metadata": {},
          "execution_count": 103
        }
      ]
    },
    {
      "cell_type": "code",
      "source": [
        "# Unfortunately there is a search limit on the number of news in this api. Maximum number is 10. Now, we will try to fetch more than that.\n",
        "for i in tqdm(range(2,3), colour=\"red\", desc=\"Getting news links from Google\"):\n",
        "  googlenews.getpage(i)\n",
        "  result = googlenews.result()\n",
        "  df = pd.DataFrame(result)"
      ],
      "metadata": {
        "colab": {
          "base_uri": "https://localhost:8080/"
        },
        "id": "3sTlS_Xc377X",
        "outputId": "3399e84d-f84f-4ed7-bfff-914d4e89e319"
      },
      "execution_count": 104,
      "outputs": [
        {
          "output_type": "stream",
          "name": "stderr",
          "text": [
            "Getting news links from Google: 100%|\u001b[31m██████████\u001b[0m| 1/1 [00:00<00:00,  1.79it/s]\n"
          ]
        }
      ]
    },
    {
      "cell_type": "code",
      "source": [
        "df.head(20)"
      ],
      "metadata": {
        "colab": {
          "base_uri": "https://localhost:8080/",
          "height": 1000
        },
        "id": "HwS7IGY03_az",
        "outputId": "254a4208-d310-49eb-8e57-6f55239681c6"
      },
      "execution_count": 105,
      "outputs": [
        {
          "output_type": "execute_result",
          "data": {
            "text/plain": [
              "                                                title           media  \\\n",
              "0       Former star Italy striker Vialli dies aged 58         Reuters   \n",
              "1   Italy Mourns The Death Of Legendary Striker Gi...          Forbes   \n",
              "2   Italy’s football star Gianluca Vialli dies age...      Al Jazeera   \n",
              "3   United Cup SF Preview: Will Berrettini Seal It...        ATP Tour   \n",
              "4   Italy to face US in United Cup final after Bro...         AP News   \n",
              "5   Tennis-United States to battle Italy in United...        SaltWire   \n",
              "6   Musetti Extends Italy's Lead After Trevisan Wi...        ATP Tour   \n",
              "7   Italy's migrant rules 'contradict' internation...  Wanted in Rome   \n",
              "8   Italian man pleads guilty to book fraud scheme...      Al Jazeera   \n",
              "9   Italy’s pasta row: A scientist on how to cook ...             ABC   \n",
              "10  Yes, VW Italy Knows Its Instagram Handle Says ...       The Drive   \n",
              "11  Italian Runner Receives Doping Ban | Athletics...  Runner's World   \n",
              "12             Winter sales season kicks off in Italy    Global Times   \n",
              "13  Remembering Italy's EURO 1968 winner Castano |...        UEFA.com   \n",
              "14                 Josephine brings Italy to Avondale        News4JAX   \n",
              "15  ‘Similar to criminal conspiracy’: draconian ne...    The Guardian   \n",
              "16  Schoonmaker Seventh, Brennan Tenth in Val di F...   U.S. Ski Team   \n",
              "17  Riddle solved: Why was Roman concrete so durable?        MIT News   \n",
              "18  Meet Italy’s ‘most beautiful footballer’ who o...      The US Sun   \n",
              "19  Italy hold Florida training camp in preparatio...  InsideTheGames   \n",
              "\n",
              "          date                   datetime  \\\n",
              "0   1 week ago 2023-01-06 12:17:38.402243   \n",
              "1   6 days ago 2023-01-07 12:17:38.432058   \n",
              "2   1 week ago 2023-01-06 12:17:38.455113   \n",
              "3   6 days ago 2023-01-07 12:17:38.476049   \n",
              "4   6 days ago 2023-01-07 12:17:38.496362   \n",
              "5   6 days ago 2023-01-07 12:17:38.527040   \n",
              "6   6 days ago 2023-01-07 12:17:38.554932   \n",
              "7   6 days ago 2023-01-07 12:17:38.575012   \n",
              "8   6 days ago 2023-01-07 12:17:38.596647   \n",
              "9   6 days ago 2023-01-07 12:17:38.617313   \n",
              "10  6 days ago 2023-01-07 12:17:39.167176   \n",
              "11  6 days ago 2023-01-07 12:17:39.179009   \n",
              "12  1 week ago 2023-01-06 12:17:39.191423   \n",
              "13  6 days ago 2023-01-07 12:17:39.204271   \n",
              "14  6 days ago 2023-01-07 12:17:39.217974   \n",
              "15  6 days ago 2023-01-07 12:17:39.230569   \n",
              "16  6 days ago 2023-01-07 12:17:39.242437   \n",
              "17  6 days ago 2023-01-07 12:17:39.255888   \n",
              "18  6 days ago 2023-01-07 12:17:39.267459   \n",
              "19  6 days ago 2023-01-07 12:17:39.278934   \n",
              "\n",
              "                                                 desc  \\\n",
              "0   MILAN, Jan 6 (Reuters) - Former Italy striker ...   \n",
              "1   The Italian soccer community mourns the death ...   \n",
              "2   Former Italian football star Gianluca Vialli h...   \n",
              "3   Matteo Berrettini will try to claim his third ...   \n",
              "4   Stefanos Tsitsipas kept Greek hopes alive by d...   \n",
              "5   Italy came into their clash with Greece holdin...   \n",
              "6   Lorenzo Musetti remains unbeaten at the United...   \n",
              "7   Twenty charities on Thursday slammed new rules...   \n",
              "8   An Italian man accused of fraudulently obtaini...   \n",
              "9   Italians are notoriously — and understandably ...   \n",
              "10  Everyone got a good giggle late last year when...   \n",
              "11  Italian endurance athlete Alessandro Braconi r...   \n",
              "12  A discount sign is seen at a store in Rome, It...   \n",
              "13  Former Juventus and Italy defender Ernesto Cas...   \n",
              "14  Josephine is an Italian-American concept that ...   \n",
              "15  Italy's rave scene grew further in the early 2...   \n",
              "16  Members of the U.S. Cross Country Ski Team, Za...   \n",
              "17  Now, a team of investigators from MIT, Harvard...   \n",
              "18  AGATA CENTASSO has been hailed as Italy's \"mos...   \n",
              "19  Italy are training in the United States as the...   \n",
              "\n",
              "                                                 link  \\\n",
              "0   https://www.reuters.com/lifestyle/sports/forme...   \n",
              "1   https://www.forbes.com/sites/danieleproch/2023...   \n",
              "2   https://www.aljazeera.com/sports/2023/1/6/ital...   \n",
              "3   https://www.atptour.com/en/news/united-cup-sf-...   \n",
              "4   https://apnews.com/article/sports-greece-taylo...   \n",
              "5   https://www.saltwire.com/cape-breton/sports/te...   \n",
              "6   https://www.atptour.com/en/news/greece-italy-u...   \n",
              "7   https://www.wantedinrome.com/news/italys-migra...   \n",
              "8   https://www.aljazeera.com/news/2023/1/7/italia...   \n",
              "9   https://www.abc.net.au/news/2023-01-07/how-sav...   \n",
              "10  https://www.thedrive.com/news/yes-vw-italy-kno...   \n",
              "11  https://www.runnersworld.com/news/a42419278/al...   \n",
              "12  https://www.globaltimes.cn/page/202301/1283334...   \n",
              "13  https://www.uefa.com/insideuefa/news/027d-1701...   \n",
              "14  https://www.news4jax.com/river-city-live/2023/...   \n",
              "15  https://www.theguardian.com/music/2023/jan/06/...   \n",
              "16  https://usskiandsnowboard.org/news/schoonmaker...   \n",
              "17  https://news.mit.edu/2023/roman-concrete-durab...   \n",
              "18  https://www.the-sun.com/sport/7071439/italy-ag...   \n",
              "19  https://www.insidethegames.biz/articles/113223...   \n",
              "\n",
              "                                                  img  \n",
              "0   data:image/gif;base64,R0lGODlhAQABAIAAAP//////...  \n",
              "1   data:image/gif;base64,R0lGODlhAQABAIAAAP//////...  \n",
              "2   data:image/gif;base64,R0lGODlhAQABAIAAAP//////...  \n",
              "3   data:image/gif;base64,R0lGODlhAQABAIAAAP//////...  \n",
              "4   data:image/gif;base64,R0lGODlhAQABAIAAAP//////...  \n",
              "5   data:image/gif;base64,R0lGODlhAQABAIAAAP//////...  \n",
              "6   data:image/gif;base64,R0lGODlhAQABAIAAAP//////...  \n",
              "7   data:image/gif;base64,R0lGODlhAQABAIAAAP//////...  \n",
              "8   data:image/gif;base64,R0lGODlhAQABAIAAAP//////...  \n",
              "9   data:image/gif;base64,R0lGODlhAQABAIAAAP//////...  \n",
              "10  data:image/gif;base64,R0lGODlhAQABAIAAAP//////...  \n",
              "11  data:image/gif;base64,R0lGODlhAQABAIAAAP//////...  \n",
              "12  data:image/gif;base64,R0lGODlhAQABAIAAAP//////...  \n",
              "13  data:image/gif;base64,R0lGODlhAQABAIAAAP//////...  \n",
              "14  data:image/gif;base64,R0lGODlhAQABAIAAAP//////...  \n",
              "15  data:image/gif;base64,R0lGODlhAQABAIAAAP//////...  \n",
              "16  data:image/gif;base64,R0lGODlhAQABAIAAAP//////...  \n",
              "17  data:image/gif;base64,R0lGODlhAQABAIAAAP//////...  \n",
              "18  data:image/gif;base64,R0lGODlhAQABAIAAAP//////...  \n",
              "19  data:image/gif;base64,R0lGODlhAQABAIAAAP//////...  "
            ],
            "text/html": [
              "\n",
              "  <div id=\"df-15b76411-f490-4964-82be-6d60ed01fda9\">\n",
              "    <div class=\"colab-df-container\">\n",
              "      <div>\n",
              "<style scoped>\n",
              "    .dataframe tbody tr th:only-of-type {\n",
              "        vertical-align: middle;\n",
              "    }\n",
              "\n",
              "    .dataframe tbody tr th {\n",
              "        vertical-align: top;\n",
              "    }\n",
              "\n",
              "    .dataframe thead th {\n",
              "        text-align: right;\n",
              "    }\n",
              "</style>\n",
              "<table border=\"1\" class=\"dataframe\">\n",
              "  <thead>\n",
              "    <tr style=\"text-align: right;\">\n",
              "      <th></th>\n",
              "      <th>title</th>\n",
              "      <th>media</th>\n",
              "      <th>date</th>\n",
              "      <th>datetime</th>\n",
              "      <th>desc</th>\n",
              "      <th>link</th>\n",
              "      <th>img</th>\n",
              "    </tr>\n",
              "  </thead>\n",
              "  <tbody>\n",
              "    <tr>\n",
              "      <th>0</th>\n",
              "      <td>Former star Italy striker Vialli dies aged 58</td>\n",
              "      <td>Reuters</td>\n",
              "      <td>1 week ago</td>\n",
              "      <td>2023-01-06 12:17:38.402243</td>\n",
              "      <td>MILAN, Jan 6 (Reuters) - Former Italy striker ...</td>\n",
              "      <td>https://www.reuters.com/lifestyle/sports/forme...</td>\n",
              "      <td>data:image/gif;base64,R0lGODlhAQABAIAAAP//////...</td>\n",
              "    </tr>\n",
              "    <tr>\n",
              "      <th>1</th>\n",
              "      <td>Italy Mourns The Death Of Legendary Striker Gi...</td>\n",
              "      <td>Forbes</td>\n",
              "      <td>6 days ago</td>\n",
              "      <td>2023-01-07 12:17:38.432058</td>\n",
              "      <td>The Italian soccer community mourns the death ...</td>\n",
              "      <td>https://www.forbes.com/sites/danieleproch/2023...</td>\n",
              "      <td>data:image/gif;base64,R0lGODlhAQABAIAAAP//////...</td>\n",
              "    </tr>\n",
              "    <tr>\n",
              "      <th>2</th>\n",
              "      <td>Italy’s football star Gianluca Vialli dies age...</td>\n",
              "      <td>Al Jazeera</td>\n",
              "      <td>1 week ago</td>\n",
              "      <td>2023-01-06 12:17:38.455113</td>\n",
              "      <td>Former Italian football star Gianluca Vialli h...</td>\n",
              "      <td>https://www.aljazeera.com/sports/2023/1/6/ital...</td>\n",
              "      <td>data:image/gif;base64,R0lGODlhAQABAIAAAP//////...</td>\n",
              "    </tr>\n",
              "    <tr>\n",
              "      <th>3</th>\n",
              "      <td>United Cup SF Preview: Will Berrettini Seal It...</td>\n",
              "      <td>ATP Tour</td>\n",
              "      <td>6 days ago</td>\n",
              "      <td>2023-01-07 12:17:38.476049</td>\n",
              "      <td>Matteo Berrettini will try to claim his third ...</td>\n",
              "      <td>https://www.atptour.com/en/news/united-cup-sf-...</td>\n",
              "      <td>data:image/gif;base64,R0lGODlhAQABAIAAAP//////...</td>\n",
              "    </tr>\n",
              "    <tr>\n",
              "      <th>4</th>\n",
              "      <td>Italy to face US in United Cup final after Bro...</td>\n",
              "      <td>AP News</td>\n",
              "      <td>6 days ago</td>\n",
              "      <td>2023-01-07 12:17:38.496362</td>\n",
              "      <td>Stefanos Tsitsipas kept Greek hopes alive by d...</td>\n",
              "      <td>https://apnews.com/article/sports-greece-taylo...</td>\n",
              "      <td>data:image/gif;base64,R0lGODlhAQABAIAAAP//////...</td>\n",
              "    </tr>\n",
              "    <tr>\n",
              "      <th>5</th>\n",
              "      <td>Tennis-United States to battle Italy in United...</td>\n",
              "      <td>SaltWire</td>\n",
              "      <td>6 days ago</td>\n",
              "      <td>2023-01-07 12:17:38.527040</td>\n",
              "      <td>Italy came into their clash with Greece holdin...</td>\n",
              "      <td>https://www.saltwire.com/cape-breton/sports/te...</td>\n",
              "      <td>data:image/gif;base64,R0lGODlhAQABAIAAAP//////...</td>\n",
              "    </tr>\n",
              "    <tr>\n",
              "      <th>6</th>\n",
              "      <td>Musetti Extends Italy's Lead After Trevisan Wi...</td>\n",
              "      <td>ATP Tour</td>\n",
              "      <td>6 days ago</td>\n",
              "      <td>2023-01-07 12:17:38.554932</td>\n",
              "      <td>Lorenzo Musetti remains unbeaten at the United...</td>\n",
              "      <td>https://www.atptour.com/en/news/greece-italy-u...</td>\n",
              "      <td>data:image/gif;base64,R0lGODlhAQABAIAAAP//////...</td>\n",
              "    </tr>\n",
              "    <tr>\n",
              "      <th>7</th>\n",
              "      <td>Italy's migrant rules 'contradict' internation...</td>\n",
              "      <td>Wanted in Rome</td>\n",
              "      <td>6 days ago</td>\n",
              "      <td>2023-01-07 12:17:38.575012</td>\n",
              "      <td>Twenty charities on Thursday slammed new rules...</td>\n",
              "      <td>https://www.wantedinrome.com/news/italys-migra...</td>\n",
              "      <td>data:image/gif;base64,R0lGODlhAQABAIAAAP//////...</td>\n",
              "    </tr>\n",
              "    <tr>\n",
              "      <th>8</th>\n",
              "      <td>Italian man pleads guilty to book fraud scheme...</td>\n",
              "      <td>Al Jazeera</td>\n",
              "      <td>6 days ago</td>\n",
              "      <td>2023-01-07 12:17:38.596647</td>\n",
              "      <td>An Italian man accused of fraudulently obtaini...</td>\n",
              "      <td>https://www.aljazeera.com/news/2023/1/7/italia...</td>\n",
              "      <td>data:image/gif;base64,R0lGODlhAQABAIAAAP//////...</td>\n",
              "    </tr>\n",
              "    <tr>\n",
              "      <th>9</th>\n",
              "      <td>Italy’s pasta row: A scientist on how to cook ...</td>\n",
              "      <td>ABC</td>\n",
              "      <td>6 days ago</td>\n",
              "      <td>2023-01-07 12:17:38.617313</td>\n",
              "      <td>Italians are notoriously — and understandably ...</td>\n",
              "      <td>https://www.abc.net.au/news/2023-01-07/how-sav...</td>\n",
              "      <td>data:image/gif;base64,R0lGODlhAQABAIAAAP//////...</td>\n",
              "    </tr>\n",
              "    <tr>\n",
              "      <th>10</th>\n",
              "      <td>Yes, VW Italy Knows Its Instagram Handle Says ...</td>\n",
              "      <td>The Drive</td>\n",
              "      <td>6 days ago</td>\n",
              "      <td>2023-01-07 12:17:39.167176</td>\n",
              "      <td>Everyone got a good giggle late last year when...</td>\n",
              "      <td>https://www.thedrive.com/news/yes-vw-italy-kno...</td>\n",
              "      <td>data:image/gif;base64,R0lGODlhAQABAIAAAP//////...</td>\n",
              "    </tr>\n",
              "    <tr>\n",
              "      <th>11</th>\n",
              "      <td>Italian Runner Receives Doping Ban | Athletics...</td>\n",
              "      <td>Runner's World</td>\n",
              "      <td>6 days ago</td>\n",
              "      <td>2023-01-07 12:17:39.179009</td>\n",
              "      <td>Italian endurance athlete Alessandro Braconi r...</td>\n",
              "      <td>https://www.runnersworld.com/news/a42419278/al...</td>\n",
              "      <td>data:image/gif;base64,R0lGODlhAQABAIAAAP//////...</td>\n",
              "    </tr>\n",
              "    <tr>\n",
              "      <th>12</th>\n",
              "      <td>Winter sales season kicks off in Italy</td>\n",
              "      <td>Global Times</td>\n",
              "      <td>1 week ago</td>\n",
              "      <td>2023-01-06 12:17:39.191423</td>\n",
              "      <td>A discount sign is seen at a store in Rome, It...</td>\n",
              "      <td>https://www.globaltimes.cn/page/202301/1283334...</td>\n",
              "      <td>data:image/gif;base64,R0lGODlhAQABAIAAAP//////...</td>\n",
              "    </tr>\n",
              "    <tr>\n",
              "      <th>13</th>\n",
              "      <td>Remembering Italy's EURO 1968 winner Castano |...</td>\n",
              "      <td>UEFA.com</td>\n",
              "      <td>6 days ago</td>\n",
              "      <td>2023-01-07 12:17:39.204271</td>\n",
              "      <td>Former Juventus and Italy defender Ernesto Cas...</td>\n",
              "      <td>https://www.uefa.com/insideuefa/news/027d-1701...</td>\n",
              "      <td>data:image/gif;base64,R0lGODlhAQABAIAAAP//////...</td>\n",
              "    </tr>\n",
              "    <tr>\n",
              "      <th>14</th>\n",
              "      <td>Josephine brings Italy to Avondale</td>\n",
              "      <td>News4JAX</td>\n",
              "      <td>6 days ago</td>\n",
              "      <td>2023-01-07 12:17:39.217974</td>\n",
              "      <td>Josephine is an Italian-American concept that ...</td>\n",
              "      <td>https://www.news4jax.com/river-city-live/2023/...</td>\n",
              "      <td>data:image/gif;base64,R0lGODlhAQABAIAAAP//////...</td>\n",
              "    </tr>\n",
              "    <tr>\n",
              "      <th>15</th>\n",
              "      <td>‘Similar to criminal conspiracy’: draconian ne...</td>\n",
              "      <td>The Guardian</td>\n",
              "      <td>6 days ago</td>\n",
              "      <td>2023-01-07 12:17:39.230569</td>\n",
              "      <td>Italy's rave scene grew further in the early 2...</td>\n",
              "      <td>https://www.theguardian.com/music/2023/jan/06/...</td>\n",
              "      <td>data:image/gif;base64,R0lGODlhAQABAIAAAP//////...</td>\n",
              "    </tr>\n",
              "    <tr>\n",
              "      <th>16</th>\n",
              "      <td>Schoonmaker Seventh, Brennan Tenth in Val di F...</td>\n",
              "      <td>U.S. Ski Team</td>\n",
              "      <td>6 days ago</td>\n",
              "      <td>2023-01-07 12:17:39.242437</td>\n",
              "      <td>Members of the U.S. Cross Country Ski Team, Za...</td>\n",
              "      <td>https://usskiandsnowboard.org/news/schoonmaker...</td>\n",
              "      <td>data:image/gif;base64,R0lGODlhAQABAIAAAP//////...</td>\n",
              "    </tr>\n",
              "    <tr>\n",
              "      <th>17</th>\n",
              "      <td>Riddle solved: Why was Roman concrete so durable?</td>\n",
              "      <td>MIT News</td>\n",
              "      <td>6 days ago</td>\n",
              "      <td>2023-01-07 12:17:39.255888</td>\n",
              "      <td>Now, a team of investigators from MIT, Harvard...</td>\n",
              "      <td>https://news.mit.edu/2023/roman-concrete-durab...</td>\n",
              "      <td>data:image/gif;base64,R0lGODlhAQABAIAAAP//////...</td>\n",
              "    </tr>\n",
              "    <tr>\n",
              "      <th>18</th>\n",
              "      <td>Meet Italy’s ‘most beautiful footballer’ who o...</td>\n",
              "      <td>The US Sun</td>\n",
              "      <td>6 days ago</td>\n",
              "      <td>2023-01-07 12:17:39.267459</td>\n",
              "      <td>AGATA CENTASSO has been hailed as Italy's \"mos...</td>\n",
              "      <td>https://www.the-sun.com/sport/7071439/italy-ag...</td>\n",
              "      <td>data:image/gif;base64,R0lGODlhAQABAIAAAP//////...</td>\n",
              "    </tr>\n",
              "    <tr>\n",
              "      <th>19</th>\n",
              "      <td>Italy hold Florida training camp in preparatio...</td>\n",
              "      <td>InsideTheGames</td>\n",
              "      <td>6 days ago</td>\n",
              "      <td>2023-01-07 12:17:39.278934</td>\n",
              "      <td>Italy are training in the United States as the...</td>\n",
              "      <td>https://www.insidethegames.biz/articles/113223...</td>\n",
              "      <td>data:image/gif;base64,R0lGODlhAQABAIAAAP//////...</td>\n",
              "    </tr>\n",
              "  </tbody>\n",
              "</table>\n",
              "</div>\n",
              "      <button class=\"colab-df-convert\" onclick=\"convertToInteractive('df-15b76411-f490-4964-82be-6d60ed01fda9')\"\n",
              "              title=\"Convert this dataframe to an interactive table.\"\n",
              "              style=\"display:none;\">\n",
              "        \n",
              "  <svg xmlns=\"http://www.w3.org/2000/svg\" height=\"24px\"viewBox=\"0 0 24 24\"\n",
              "       width=\"24px\">\n",
              "    <path d=\"M0 0h24v24H0V0z\" fill=\"none\"/>\n",
              "    <path d=\"M18.56 5.44l.94 2.06.94-2.06 2.06-.94-2.06-.94-.94-2.06-.94 2.06-2.06.94zm-11 1L8.5 8.5l.94-2.06 2.06-.94-2.06-.94L8.5 2.5l-.94 2.06-2.06.94zm10 10l.94 2.06.94-2.06 2.06-.94-2.06-.94-.94-2.06-.94 2.06-2.06.94z\"/><path d=\"M17.41 7.96l-1.37-1.37c-.4-.4-.92-.59-1.43-.59-.52 0-1.04.2-1.43.59L10.3 9.45l-7.72 7.72c-.78.78-.78 2.05 0 2.83L4 21.41c.39.39.9.59 1.41.59.51 0 1.02-.2 1.41-.59l7.78-7.78 2.81-2.81c.8-.78.8-2.07 0-2.86zM5.41 20L4 18.59l7.72-7.72 1.47 1.35L5.41 20z\"/>\n",
              "  </svg>\n",
              "      </button>\n",
              "      \n",
              "  <style>\n",
              "    .colab-df-container {\n",
              "      display:flex;\n",
              "      flex-wrap:wrap;\n",
              "      gap: 12px;\n",
              "    }\n",
              "\n",
              "    .colab-df-convert {\n",
              "      background-color: #E8F0FE;\n",
              "      border: none;\n",
              "      border-radius: 50%;\n",
              "      cursor: pointer;\n",
              "      display: none;\n",
              "      fill: #1967D2;\n",
              "      height: 32px;\n",
              "      padding: 0 0 0 0;\n",
              "      width: 32px;\n",
              "    }\n",
              "\n",
              "    .colab-df-convert:hover {\n",
              "      background-color: #E2EBFA;\n",
              "      box-shadow: 0px 1px 2px rgba(60, 64, 67, 0.3), 0px 1px 3px 1px rgba(60, 64, 67, 0.15);\n",
              "      fill: #174EA6;\n",
              "    }\n",
              "\n",
              "    [theme=dark] .colab-df-convert {\n",
              "      background-color: #3B4455;\n",
              "      fill: #D2E3FC;\n",
              "    }\n",
              "\n",
              "    [theme=dark] .colab-df-convert:hover {\n",
              "      background-color: #434B5C;\n",
              "      box-shadow: 0px 1px 3px 1px rgba(0, 0, 0, 0.15);\n",
              "      filter: drop-shadow(0px 1px 2px rgba(0, 0, 0, 0.3));\n",
              "      fill: #FFFFFF;\n",
              "    }\n",
              "  </style>\n",
              "\n",
              "      <script>\n",
              "        const buttonEl =\n",
              "          document.querySelector('#df-15b76411-f490-4964-82be-6d60ed01fda9 button.colab-df-convert');\n",
              "        buttonEl.style.display =\n",
              "          google.colab.kernel.accessAllowed ? 'block' : 'none';\n",
              "\n",
              "        async function convertToInteractive(key) {\n",
              "          const element = document.querySelector('#df-15b76411-f490-4964-82be-6d60ed01fda9');\n",
              "          const dataTable =\n",
              "            await google.colab.kernel.invokeFunction('convertToInteractive',\n",
              "                                                     [key], {});\n",
              "          if (!dataTable) return;\n",
              "\n",
              "          const docLinkHtml = 'Like what you see? Visit the ' +\n",
              "            '<a target=\"_blank\" href=https://colab.research.google.com/notebooks/data_table.ipynb>data table notebook</a>'\n",
              "            + ' to learn more about interactive tables.';\n",
              "          element.innerHTML = '';\n",
              "          dataTable['output_type'] = 'display_data';\n",
              "          await google.colab.output.renderOutput(dataTable, element);\n",
              "          const docLink = document.createElement('div');\n",
              "          docLink.innerHTML = docLinkHtml;\n",
              "          element.appendChild(docLink);\n",
              "        }\n",
              "      </script>\n",
              "    </div>\n",
              "  </div>\n",
              "  "
            ]
          },
          "metadata": {},
          "execution_count": 105
        }
      ]
    },
    {
      "cell_type": "code",
      "source": [
        "df.drop([15],axis=0,inplace=True)"
      ],
      "metadata": {
        "id": "PIJF9P5Z6P_n"
      },
      "execution_count": 106,
      "outputs": []
    },
    {
      "cell_type": "code",
      "source": [
        "# Get the full article extracting and parsing the article\n",
        "\n",
        "list = []\n",
        "\n",
        "for ind in tqdm(df.index, colour=\"green\", desc=\"Hacker Dr.Anna Verbytska extracting articles from the internet\"):\n",
        "  dict = {}\n",
        "  article = Article(df['link'][ind],config = config)\n",
        "  article.download()\n",
        "  article.parse()\n",
        "  article.nlp()\n",
        "  dict['Date'] = df['date'][ind]\n",
        "  dict['Media'] = df['media'][ind]\n",
        "  dict['Title'] = article.title\n",
        "  dict['Article'] = article.text\n",
        "  dict['Summary'] = article.summary\n",
        "  list.append(dict)"
      ],
      "metadata": {
        "colab": {
          "base_uri": "https://localhost:8080/"
        },
        "id": "OSCH0cg54Ngk",
        "outputId": "79d5d21e-0c80-4bca-882e-73b51cd229b4"
      },
      "execution_count": 107,
      "outputs": [
        {
          "output_type": "stream",
          "name": "stderr",
          "text": [
            "Hacker Dr.Anna Verbytska extracting articles from the internet:  63%|\u001b[32m██████▎   \u001b[0m| 12/19 [00:12<00:05,  1.24it/s]/usr/local/lib/python3.8/dist-packages/requests/utils.py:446: DeprecationWarning: In requests 3.0, get_encodings_from_content will be removed. For more information, please see the discussion on issue #2266. (This warning should only appear once.)\n",
            "  warnings.warn((\n",
            "Hacker Dr.Anna Verbytska extracting articles from the internet:  68%|\u001b[32m██████▊   \u001b[0m| 13/19 [00:12<00:04,  1.25it/s]/usr/local/lib/python3.8/dist-packages/requests/utils.py:446: DeprecationWarning: In requests 3.0, get_encodings_from_content will be removed. For more information, please see the discussion on issue #2266. (This warning should only appear once.)\n",
            "  warnings.warn((\n",
            "Hacker Dr.Anna Verbytska extracting articles from the internet: 100%|\u001b[32m██████████\u001b[0m| 19/19 [00:18<00:00,  1.05it/s]\n"
          ]
        }
      ]
    },
    {
      "cell_type": "code",
      "source": [
        "news_df = pd.DataFrame(list)\n",
        "news_df.head(20)"
      ],
      "metadata": {
        "colab": {
          "base_uri": "https://localhost:8080/",
          "height": 638
        },
        "id": "jkx7RAWR92Oo",
        "outputId": "6b20bf43-c939-4674-b59e-abd33d321c03"
      },
      "execution_count": 108,
      "outputs": [
        {
          "output_type": "execute_result",
          "data": {
            "text/plain": [
              "          Date           Media  \\\n",
              "0   1 week ago         Reuters   \n",
              "1   6 days ago          Forbes   \n",
              "2   1 week ago      Al Jazeera   \n",
              "3   6 days ago        ATP Tour   \n",
              "4   6 days ago         AP News   \n",
              "5   6 days ago        SaltWire   \n",
              "6   6 days ago        ATP Tour   \n",
              "7   6 days ago  Wanted in Rome   \n",
              "8   6 days ago      Al Jazeera   \n",
              "9   6 days ago             ABC   \n",
              "10  6 days ago       The Drive   \n",
              "11  6 days ago  Runner's World   \n",
              "12  1 week ago    Global Times   \n",
              "13  6 days ago        UEFA.com   \n",
              "14  6 days ago        News4JAX   \n",
              "15  6 days ago   U.S. Ski Team   \n",
              "16  6 days ago        MIT News   \n",
              "17  6 days ago      The US Sun   \n",
              "18  6 days ago  InsideTheGames   \n",
              "\n",
              "                                                Title  \\\n",
              "0       Former star Italy striker Vialli dies aged 58   \n",
              "1   Italy Mourns The Death Of Legendary Striker Gi...   \n",
              "2   Italy’s football star Gianluca Vialli dies age...   \n",
              "3   United Cup SF Preview: Will Berrettini Seal It...   \n",
              "4   Italy to face US in United Cup final after Bro...   \n",
              "5   Tennis-United States to battle Italy in United...   \n",
              "6   Musetti Extends Italy's Lead After Trevisan Wi...   \n",
              "7   Italy's migrant rules 'contradict' internation...   \n",
              "8   Italian man pleads guilty to book fraud scheme...   \n",
              "9   Italy’s pasta row: A scientist on how to cook ...   \n",
              "10  Yes, VW Italy Knows Its Instagram Handle Says ...   \n",
              "11  Italian Hobby Runner Banned From Competition f...   \n",
              "12             Winter sales season kicks off in Italy   \n",
              "13       Remembering Italy's EURO 1968 winner Castano   \n",
              "14                 Josephine brings Italy to Avondale   \n",
              "15  Schoonmaker Seventh, Ogden Ninth, Brennan 10th...   \n",
              "16  Riddle solved: Why was Roman concrete so durable?   \n",
              "17  Meet Italy’s ‘most beautiful footballer’ who o...   \n",
              "18  Italy hold Florida training camp in preparatio...   \n",
              "\n",
              "                                              Article  \\\n",
              "0   \\n\\n\\n\\n\\n\\n\\n\\n\\n\\n\\n\\n\\n\\nMILAN, Jan 6 (Reut...   \n",
              "1   LONDON, ENGLAND - JULY 11: Gianluca Vialli, De...   \n",
              "2   Vialli, who played with Sampdoria, Juventus an...   \n",
              "3   Editor's Note: Taylor Fritz sealed the United ...   \n",
              "4   Italy to face US in United Cup final after Bro...   \n",
              "5   SYDNEY (Reuters) -A tenacious Taylor Fritz pul...   \n",
              "6   After Martina Trevisan won an epic against Mar...   \n",
              "7   Twenty charities on Thursday slammed new rules...   \n",
              "8   Filippo Bernardini allegedly targetted top aut...   \n",
              "9   Italians are notoriously — and understandably ...   \n",
              "10  Everyone got a good giggle late last year when...   \n",
              "11  Italian endurance athlete Alessandro Braconi r...   \n",
              "12  A discount sign is seen at a store in Rome, It...   \n",
              "13  A Balsamese trainee, Castano joined Juventus i...   \n",
              "14  Josephine is an Italian-American concept that ...   \n",
              "15  The U.S. Cross Country Team raced the first of...   \n",
              "16  The ancient Romans were masters of engineering...   \n",
              "17  AGATA CENTASSO has been hailed as Italy's \"mos...   \n",
              "18  Italy are training in the United States as the...   \n",
              "\n",
              "                                              Summary  \n",
              "0   Sampdoria, Juventus and Chelsea posted message...  \n",
              "1   LONDON, ENGLAND - JULY 11: Gianluca Vialli, De...  \n",
              "2   Vialli, who played with Sampdoria, Juventus an...  \n",
              "3   Editor's Note: Taylor Fritz sealed the United ...  \n",
              "4   Italy to face US in United Cup final after Bro...  \n",
              "5   SYDNEY (Reuters) -A tenacious Taylor Fritz pul...  \n",
              "6   After Martina Trevisan won an epic against Mar...  \n",
              "7   Twenty charities on Thursday slammed new rules...  \n",
              "8   Filippo Bernardini allegedly targetted top aut...  \n",
              "9   In the case of dried pasta, there are actually...  \n",
              "10  Everyone got a good giggle late last year when...  \n",
              "11  Italian endurance athlete Alessandro Braconi r...  \n",
              "12  The winter sales season kicked off on Thursday...  \n",
              "13  A Balsamese trainee, Castano joined Juventus i...  \n",
              "14  Josephine is an Italian-American concept that ...  \n",
              "15  The U.S. Cross Country Team raced the first of...  \n",
              "16  These white chunks, often referred to as “lime...  \n",
              "17  The midfielder plays for Serie B side Venezia’...  \n",
              "18  Italy are training in the United States as the...  "
            ],
            "text/html": [
              "\n",
              "  <div id=\"df-e1a3192d-06ea-4485-836a-eb49ef8d4ae5\">\n",
              "    <div class=\"colab-df-container\">\n",
              "      <div>\n",
              "<style scoped>\n",
              "    .dataframe tbody tr th:only-of-type {\n",
              "        vertical-align: middle;\n",
              "    }\n",
              "\n",
              "    .dataframe tbody tr th {\n",
              "        vertical-align: top;\n",
              "    }\n",
              "\n",
              "    .dataframe thead th {\n",
              "        text-align: right;\n",
              "    }\n",
              "</style>\n",
              "<table border=\"1\" class=\"dataframe\">\n",
              "  <thead>\n",
              "    <tr style=\"text-align: right;\">\n",
              "      <th></th>\n",
              "      <th>Date</th>\n",
              "      <th>Media</th>\n",
              "      <th>Title</th>\n",
              "      <th>Article</th>\n",
              "      <th>Summary</th>\n",
              "    </tr>\n",
              "  </thead>\n",
              "  <tbody>\n",
              "    <tr>\n",
              "      <th>0</th>\n",
              "      <td>1 week ago</td>\n",
              "      <td>Reuters</td>\n",
              "      <td>Former star Italy striker Vialli dies aged 58</td>\n",
              "      <td>\\n\\n\\n\\n\\n\\n\\n\\n\\n\\n\\n\\n\\n\\nMILAN, Jan 6 (Reut...</td>\n",
              "      <td>Sampdoria, Juventus and Chelsea posted message...</td>\n",
              "    </tr>\n",
              "    <tr>\n",
              "      <th>1</th>\n",
              "      <td>6 days ago</td>\n",
              "      <td>Forbes</td>\n",
              "      <td>Italy Mourns The Death Of Legendary Striker Gi...</td>\n",
              "      <td>LONDON, ENGLAND - JULY 11: Gianluca Vialli, De...</td>\n",
              "      <td>LONDON, ENGLAND - JULY 11: Gianluca Vialli, De...</td>\n",
              "    </tr>\n",
              "    <tr>\n",
              "      <th>2</th>\n",
              "      <td>1 week ago</td>\n",
              "      <td>Al Jazeera</td>\n",
              "      <td>Italy’s football star Gianluca Vialli dies age...</td>\n",
              "      <td>Vialli, who played with Sampdoria, Juventus an...</td>\n",
              "      <td>Vialli, who played with Sampdoria, Juventus an...</td>\n",
              "    </tr>\n",
              "    <tr>\n",
              "      <th>3</th>\n",
              "      <td>6 days ago</td>\n",
              "      <td>ATP Tour</td>\n",
              "      <td>United Cup SF Preview: Will Berrettini Seal It...</td>\n",
              "      <td>Editor's Note: Taylor Fritz sealed the United ...</td>\n",
              "      <td>Editor's Note: Taylor Fritz sealed the United ...</td>\n",
              "    </tr>\n",
              "    <tr>\n",
              "      <th>4</th>\n",
              "      <td>6 days ago</td>\n",
              "      <td>AP News</td>\n",
              "      <td>Italy to face US in United Cup final after Bro...</td>\n",
              "      <td>Italy to face US in United Cup final after Bro...</td>\n",
              "      <td>Italy to face US in United Cup final after Bro...</td>\n",
              "    </tr>\n",
              "    <tr>\n",
              "      <th>5</th>\n",
              "      <td>6 days ago</td>\n",
              "      <td>SaltWire</td>\n",
              "      <td>Tennis-United States to battle Italy in United...</td>\n",
              "      <td>SYDNEY (Reuters) -A tenacious Taylor Fritz pul...</td>\n",
              "      <td>SYDNEY (Reuters) -A tenacious Taylor Fritz pul...</td>\n",
              "    </tr>\n",
              "    <tr>\n",
              "      <th>6</th>\n",
              "      <td>6 days ago</td>\n",
              "      <td>ATP Tour</td>\n",
              "      <td>Musetti Extends Italy's Lead After Trevisan Wi...</td>\n",
              "      <td>After Martina Trevisan won an epic against Mar...</td>\n",
              "      <td>After Martina Trevisan won an epic against Mar...</td>\n",
              "    </tr>\n",
              "    <tr>\n",
              "      <th>7</th>\n",
              "      <td>6 days ago</td>\n",
              "      <td>Wanted in Rome</td>\n",
              "      <td>Italy's migrant rules 'contradict' internation...</td>\n",
              "      <td>Twenty charities on Thursday slammed new rules...</td>\n",
              "      <td>Twenty charities on Thursday slammed new rules...</td>\n",
              "    </tr>\n",
              "    <tr>\n",
              "      <th>8</th>\n",
              "      <td>6 days ago</td>\n",
              "      <td>Al Jazeera</td>\n",
              "      <td>Italian man pleads guilty to book fraud scheme...</td>\n",
              "      <td>Filippo Bernardini allegedly targetted top aut...</td>\n",
              "      <td>Filippo Bernardini allegedly targetted top aut...</td>\n",
              "    </tr>\n",
              "    <tr>\n",
              "      <th>9</th>\n",
              "      <td>6 days ago</td>\n",
              "      <td>ABC</td>\n",
              "      <td>Italy’s pasta row: A scientist on how to cook ...</td>\n",
              "      <td>Italians are notoriously — and understandably ...</td>\n",
              "      <td>In the case of dried pasta, there are actually...</td>\n",
              "    </tr>\n",
              "    <tr>\n",
              "      <th>10</th>\n",
              "      <td>6 days ago</td>\n",
              "      <td>The Drive</td>\n",
              "      <td>Yes, VW Italy Knows Its Instagram Handle Says ...</td>\n",
              "      <td>Everyone got a good giggle late last year when...</td>\n",
              "      <td>Everyone got a good giggle late last year when...</td>\n",
              "    </tr>\n",
              "    <tr>\n",
              "      <th>11</th>\n",
              "      <td>6 days ago</td>\n",
              "      <td>Runner's World</td>\n",
              "      <td>Italian Hobby Runner Banned From Competition f...</td>\n",
              "      <td>Italian endurance athlete Alessandro Braconi r...</td>\n",
              "      <td>Italian endurance athlete Alessandro Braconi r...</td>\n",
              "    </tr>\n",
              "    <tr>\n",
              "      <th>12</th>\n",
              "      <td>1 week ago</td>\n",
              "      <td>Global Times</td>\n",
              "      <td>Winter sales season kicks off in Italy</td>\n",
              "      <td>A discount sign is seen at a store in Rome, It...</td>\n",
              "      <td>The winter sales season kicked off on Thursday...</td>\n",
              "    </tr>\n",
              "    <tr>\n",
              "      <th>13</th>\n",
              "      <td>6 days ago</td>\n",
              "      <td>UEFA.com</td>\n",
              "      <td>Remembering Italy's EURO 1968 winner Castano</td>\n",
              "      <td>A Balsamese trainee, Castano joined Juventus i...</td>\n",
              "      <td>A Balsamese trainee, Castano joined Juventus i...</td>\n",
              "    </tr>\n",
              "    <tr>\n",
              "      <th>14</th>\n",
              "      <td>6 days ago</td>\n",
              "      <td>News4JAX</td>\n",
              "      <td>Josephine brings Italy to Avondale</td>\n",
              "      <td>Josephine is an Italian-American concept that ...</td>\n",
              "      <td>Josephine is an Italian-American concept that ...</td>\n",
              "    </tr>\n",
              "    <tr>\n",
              "      <th>15</th>\n",
              "      <td>6 days ago</td>\n",
              "      <td>U.S. Ski Team</td>\n",
              "      <td>Schoonmaker Seventh, Ogden Ninth, Brennan 10th...</td>\n",
              "      <td>The U.S. Cross Country Team raced the first of...</td>\n",
              "      <td>The U.S. Cross Country Team raced the first of...</td>\n",
              "    </tr>\n",
              "    <tr>\n",
              "      <th>16</th>\n",
              "      <td>6 days ago</td>\n",
              "      <td>MIT News</td>\n",
              "      <td>Riddle solved: Why was Roman concrete so durable?</td>\n",
              "      <td>The ancient Romans were masters of engineering...</td>\n",
              "      <td>These white chunks, often referred to as “lime...</td>\n",
              "    </tr>\n",
              "    <tr>\n",
              "      <th>17</th>\n",
              "      <td>6 days ago</td>\n",
              "      <td>The US Sun</td>\n",
              "      <td>Meet Italy’s ‘most beautiful footballer’ who o...</td>\n",
              "      <td>AGATA CENTASSO has been hailed as Italy's \"mos...</td>\n",
              "      <td>The midfielder plays for Serie B side Venezia’...</td>\n",
              "    </tr>\n",
              "    <tr>\n",
              "      <th>18</th>\n",
              "      <td>6 days ago</td>\n",
              "      <td>InsideTheGames</td>\n",
              "      <td>Italy hold Florida training camp in preparatio...</td>\n",
              "      <td>Italy are training in the United States as the...</td>\n",
              "      <td>Italy are training in the United States as the...</td>\n",
              "    </tr>\n",
              "  </tbody>\n",
              "</table>\n",
              "</div>\n",
              "      <button class=\"colab-df-convert\" onclick=\"convertToInteractive('df-e1a3192d-06ea-4485-836a-eb49ef8d4ae5')\"\n",
              "              title=\"Convert this dataframe to an interactive table.\"\n",
              "              style=\"display:none;\">\n",
              "        \n",
              "  <svg xmlns=\"http://www.w3.org/2000/svg\" height=\"24px\"viewBox=\"0 0 24 24\"\n",
              "       width=\"24px\">\n",
              "    <path d=\"M0 0h24v24H0V0z\" fill=\"none\"/>\n",
              "    <path d=\"M18.56 5.44l.94 2.06.94-2.06 2.06-.94-2.06-.94-.94-2.06-.94 2.06-2.06.94zm-11 1L8.5 8.5l.94-2.06 2.06-.94-2.06-.94L8.5 2.5l-.94 2.06-2.06.94zm10 10l.94 2.06.94-2.06 2.06-.94-2.06-.94-.94-2.06-.94 2.06-2.06.94z\"/><path d=\"M17.41 7.96l-1.37-1.37c-.4-.4-.92-.59-1.43-.59-.52 0-1.04.2-1.43.59L10.3 9.45l-7.72 7.72c-.78.78-.78 2.05 0 2.83L4 21.41c.39.39.9.59 1.41.59.51 0 1.02-.2 1.41-.59l7.78-7.78 2.81-2.81c.8-.78.8-2.07 0-2.86zM5.41 20L4 18.59l7.72-7.72 1.47 1.35L5.41 20z\"/>\n",
              "  </svg>\n",
              "      </button>\n",
              "      \n",
              "  <style>\n",
              "    .colab-df-container {\n",
              "      display:flex;\n",
              "      flex-wrap:wrap;\n",
              "      gap: 12px;\n",
              "    }\n",
              "\n",
              "    .colab-df-convert {\n",
              "      background-color: #E8F0FE;\n",
              "      border: none;\n",
              "      border-radius: 50%;\n",
              "      cursor: pointer;\n",
              "      display: none;\n",
              "      fill: #1967D2;\n",
              "      height: 32px;\n",
              "      padding: 0 0 0 0;\n",
              "      width: 32px;\n",
              "    }\n",
              "\n",
              "    .colab-df-convert:hover {\n",
              "      background-color: #E2EBFA;\n",
              "      box-shadow: 0px 1px 2px rgba(60, 64, 67, 0.3), 0px 1px 3px 1px rgba(60, 64, 67, 0.15);\n",
              "      fill: #174EA6;\n",
              "    }\n",
              "\n",
              "    [theme=dark] .colab-df-convert {\n",
              "      background-color: #3B4455;\n",
              "      fill: #D2E3FC;\n",
              "    }\n",
              "\n",
              "    [theme=dark] .colab-df-convert:hover {\n",
              "      background-color: #434B5C;\n",
              "      box-shadow: 0px 1px 3px 1px rgba(0, 0, 0, 0.15);\n",
              "      filter: drop-shadow(0px 1px 2px rgba(0, 0, 0, 0.3));\n",
              "      fill: #FFFFFF;\n",
              "    }\n",
              "  </style>\n",
              "\n",
              "      <script>\n",
              "        const buttonEl =\n",
              "          document.querySelector('#df-e1a3192d-06ea-4485-836a-eb49ef8d4ae5 button.colab-df-convert');\n",
              "        buttonEl.style.display =\n",
              "          google.colab.kernel.accessAllowed ? 'block' : 'none';\n",
              "\n",
              "        async function convertToInteractive(key) {\n",
              "          const element = document.querySelector('#df-e1a3192d-06ea-4485-836a-eb49ef8d4ae5');\n",
              "          const dataTable =\n",
              "            await google.colab.kernel.invokeFunction('convertToInteractive',\n",
              "                                                     [key], {});\n",
              "          if (!dataTable) return;\n",
              "\n",
              "          const docLinkHtml = 'Like what you see? Visit the ' +\n",
              "            '<a target=\"_blank\" href=https://colab.research.google.com/notebooks/data_table.ipynb>data table notebook</a>'\n",
              "            + ' to learn more about interactive tables.';\n",
              "          element.innerHTML = '';\n",
              "          dataTable['output_type'] = 'display_data';\n",
              "          await google.colab.output.renderOutput(dataTable, element);\n",
              "          const docLink = document.createElement('div');\n",
              "          docLink.innerHTML = docLinkHtml;\n",
              "          element.appendChild(docLink);\n",
              "        }\n",
              "      </script>\n",
              "    </div>\n",
              "  </div>\n",
              "  "
            ]
          },
          "metadata": {},
          "execution_count": 108
        }
      ]
    },
    {
      "cell_type": "code",
      "source": [
        "# Checking one article\n",
        "news_df.iloc[8]['Article']"
      ],
      "metadata": {
        "colab": {
          "base_uri": "https://localhost:8080/",
          "height": 137
        },
        "id": "6hPqJ-LP97tT",
        "outputId": "6334ca2d-f1a1-425f-c342-b1b8bb68db11"
      },
      "execution_count": 109,
      "outputs": [
        {
          "output_type": "execute_result",
          "data": {
            "text/plain": [
              "'Filippo Bernardini allegedly targetted top authors like Margaret Atwood, as well as up-and-coming talent in publishing.\\n\\nAn Italian man accused of fraudulently obtaining more than 1,000 book manuscripts before publication pleaded guilty before a United States court on Friday.\\n\\nFilippo Bernardini, a 30-year-old publishing industry worker formerly living in London, faces one charge of wire fraud for engineering a multi-year scheme to target up-and-coming writers as well as big names like Canada’s Margaret Atwood, author of The Handmaid’s Tale.\\n\\nHe faces up to 20 years in prison for the scheme. At Friday’s hearing, Bernardini also agreed to pay $88,000 in restitution.\\n\\n“Unpublished manuscripts are works of art to the writers who spend the time and energy creating them,” said Michael Driscoll, assistant director-in-charge of the US Federal Bureau of Investigation’s New York office.\\n\\n“Mr Bernardini was allegedly trying to steal other people’s literary ideas for himself, but in the end, he wasn’t creative enough to get away with it.”\\n\\nBernardini was arrested at New York’s John F Kennedy International Airport in January 2022. US Justice Department officials have accused him of impersonating editors, talent agents and other individuals to gain advance copies of unpublished books.\\n\\nThe scheme began around August 2016, investigators said. Drawing on his knowledge of the industry, Bernardini began to register upwards of 160 internet domains that had names similar to existing publishing houses and literary scouts.\\n\\nThese domains, however, showed slight variations from the originals, prosecutors said. Where a real name might include the letter “m”, Bernardini would place a lowercase “r” and “n” close together to mimic the letter’s shape.\\n\\nIn one case, the Justice Department said he used one of his ersatz email addresses to approach a Pulitzer Prize-winning author. Believing Bernardini to be their editor, the author forwarded him a copy of a forthcoming manuscript.\\n\\nAnother tactic Bernardini allegedly deployed was a phishing scheme, where he created a real-looking website that prompted users to provide their emails and passwords. Posing as a member of a talent-scouting company, he emailed links to this website to two publishing-industry insiders.\\n\\nThe webpage, prosecutors said, was designed to send the confidential information to Bernardini’s email account.\\n\\nBernardini has not offered any motive for his alleged actions and has not attempted to sell any of the book manuscripts. Among the authors caught up in the scheme were US actor Ethan Hawke and British Booker Prize-winner Ian McEwan.\\n\\nHis sentencing hearing is set for April 5 in the courtroom of US District Judge Colleen McMahon.\\n\\nIn a statement on Friday, US District Attorney for the Southern District of New York Damian Williams praised law enforcement and prosecutors for writing “the final chapter to Bernardini’s manuscript theft scheme”.\\n\\n“This real-life storyline now reads as a cautionary tale,” Williams had said previously, “with the plot twist of Bernardini facing federal criminal charges for his misdeeds”.'"
            ],
            "application/vnd.google.colaboratory.intrinsic+json": {
              "type": "string"
            }
          },
          "metadata": {},
          "execution_count": 109
        }
      ]
    },
    {
      "cell_type": "markdown",
      "source": [
        "**Topic Modelling**"
      ],
      "metadata": {
        "id": "vz08J55w-Wrd"
      }
    },
    {
      "cell_type": "code",
      "source": [
        "#installing libraries for TM\n",
        "!pip install pyLDAvis -qq\n",
        "!pip install gensim==4.0.0\n",
        "!pip install spacy -qq\n",
        "!pip install matplotlib -qq\n",
        "!pip install seaborn -qq\n",
        "!python -m spacy download en_core_web_md -qq"
      ],
      "metadata": {
        "colab": {
          "base_uri": "https://localhost:8080/"
        },
        "id": "iC4cwPDI-ZK1",
        "outputId": "3efb6716-d618-411a-e627-8cc4eb5c7d3a"
      },
      "execution_count": 110,
      "outputs": [
        {
          "output_type": "stream",
          "name": "stdout",
          "text": [
            "Looking in indexes: https://pypi.org/simple, https://us-python.pkg.dev/colab-wheels/public/simple/\n",
            "Requirement already satisfied: gensim==4.0.0 in /usr/local/lib/python3.8/dist-packages (4.0.0)\n",
            "Requirement already satisfied: scipy>=0.18.1 in /usr/local/lib/python3.8/dist-packages (from gensim==4.0.0) (1.7.3)\n",
            "Requirement already satisfied: smart-open>=1.8.1 in /usr/local/lib/python3.8/dist-packages (from gensim==4.0.0) (6.3.0)\n",
            "Requirement already satisfied: numpy>=1.11.3 in /usr/local/lib/python3.8/dist-packages (from gensim==4.0.0) (1.21.6)\n",
            "/usr/local/lib/python3.8/dist-packages/torch/cuda/__init__.py:497: UserWarning: Can't initialize NVML\n",
            "  warnings.warn(\"Can't initialize NVML\")\n",
            "2023-01-13 12:18:27.012585: E tensorflow/stream_executor/cuda/cuda_driver.cc:271] failed call to cuInit: CUDA_ERROR_NO_DEVICE: no CUDA-capable device is detected\n",
            "\u001b[2K     \u001b[90m━━━━━━━━━━━━━━━━━━━━━━━━━━━━━━━━━━━━━━━━\u001b[0m \u001b[32m42.8/42.8 MB\u001b[0m \u001b[31m13.2 MB/s\u001b[0m eta \u001b[36m0:00:00\u001b[0m\n",
            "\u001b[?25h\u001b[38;5;2m✔ Download and installation successful\u001b[0m\n",
            "You can now load the package via spacy.load('en_core_web_md')\n"
          ]
        }
      ]
    },
    {
      "cell_type": "code",
      "source": [
        "#Importing libraries\n",
        "import pandas as pd\n",
        "import matplotlib.pyplot as plt\n",
        "import seaborn as sns\n",
        "sns.set()\n",
        "import spacy\n",
        "import pyLDAvis.gensim_models\n",
        "pyLDAvis.enable_notebook()\n",
        "import en_core_web_md\n",
        "from gensim.corpora.dictionary import Dictionary\n",
        "from gensim.models import LdaMulticore\n",
        "from gensim.models import CoherenceModel"
      ],
      "metadata": {
        "id": "XIodBjDT-u4_"
      },
      "execution_count": 111,
      "outputs": []
    },
    {
      "cell_type": "code",
      "source": [
        "#Running a model\n",
        "nlp = en_core_web_md.load()"
      ],
      "metadata": {
        "id": "D3UC3FQC-0SN"
      },
      "execution_count": 112,
      "outputs": []
    },
    {
      "cell_type": "code",
      "source": [
        "#Removing stopwords\n",
        "removal= ['PRON','CCONJ','PUNCT','PART','DET','ADP','SPACE', 'NUM', 'SYM']"
      ],
      "metadata": {
        "id": "7BvCfxF--4AY"
      },
      "execution_count": 113,
      "outputs": []
    },
    {
      "cell_type": "code",
      "source": [
        "#Lemmatization & tokenization\n",
        "tokens = []\n",
        "for article in nlp.pipe(news_df['Article']):\n",
        "\tproj_tok = [token.lemma_.lower() for token in article if token.pos_ not in removal and not token.is_stop and token.is_alpha]\n",
        "\ttokens.append(proj_tok)"
      ],
      "metadata": {
        "id": "xjMGkDOh-8D5"
      },
      "execution_count": 114,
      "outputs": []
    },
    {
      "cell_type": "code",
      "source": [
        "#Printing out tokens\n",
        "news_df['tokens'] = tokens\n",
        "news_df['tokens']"
      ],
      "metadata": {
        "colab": {
          "base_uri": "https://localhost:8080/"
        },
        "id": "CwXijjqK-_0a",
        "outputId": "5ffacec3-48b0-4053-db96-57406f87b097"
      },
      "execution_count": 115,
      "outputs": [
        {
          "output_type": "execute_result",
          "data": {
            "text/plain": [
              "0     [milan, jan, reuters, italy, striker, gianluca...\n",
              "1     [london, england, july, gianluca, vialli, dele...\n",
              "2     [vialli, play, sampdoria, juventus, chelsea, d...\n",
              "3     [editor, note, taylor, fritz, seal, united, st...\n",
              "4     [italy, face, united, cup, final, bronzetti, v...\n",
              "5     [sydney, reuters, tenacious, taylor, fritz, pu...\n",
              "6     [martina, trevisan, win, epic, maria, sakkari,...\n",
              "7     [charity, thursday, slam, new, rule, rescue, m...\n",
              "8     [filippo, bernardini, allegedly, targette, aut...\n",
              "9     [italians, notoriously, understandably, protec...\n",
              "10    [get, good, giggle, late, year, volkswagen, it...\n",
              "11    [italian, endurance, athlete, alessandro, brac...\n",
              "12    [discount, sign, see, store, rome, italy, jan,...\n",
              "13    [balsamese, trainee, castano, join, juventus, ...\n",
              "14    [josephine, italian, american, concept, pay, h...\n",
              "15    [cross, country, team, race, race, val, di, fe...\n",
              "16    [ancient, romans, master, engineering, constru...\n",
              "17    [agata, centasso, hail, italy, beautiful, foot...\n",
              "18    [italy, train, united, states, look, step, pre...\n",
              "Name: tokens, dtype: object"
            ]
          },
          "metadata": {},
          "execution_count": 115
        }
      ]
    },
    {
      "cell_type": "code",
      "source": [
        "#Creating a dictionary, giving each token a unique ID\n",
        "dictionary = Dictionary(news_df['tokens'])\n",
        "print(dictionary.token2id)"
      ],
      "metadata": {
        "colab": {
          "base_uri": "https://localhost:8080/"
        },
        "id": "PMQ2kdgM_EJv",
        "outputId": "f6b90e3d-ade6-44d0-f7dc-43d1e72c86cd"
      },
      "execution_count": 116,
      "outputs": [
        {
          "output_type": "stream",
          "name": "stdout",
          "text": [
            "{'additional': 0, 'affection': 1, 'age': 2, 'agency': 3, 'air': 4, 'anderlecht': 5, 'ansa': 6, 'aside': 7, 'ball': 8, 'barcelona': 9, 'base': 10, 'beat': 11, 'beautiful': 12, 'cancer': 13, 'cap': 14, 'capital': 15, 'career': 16, 'celebrate': 17, 'champions': 18, 'charge': 19, 'chelsea': 20, 'claim': 21, 'clear': 22, 'club': 23, 'co': 24, 'coach': 25, 'companion': 26, 'confirm': 27, 'country': 28, 'courage': 29, 'cremonese': 30, 'cup': 31, 'daughter': 32, 'davis': 33, 'delay': 34, 'delegation': 35, 'describe': 36, 'diagnose': 37, 'die': 38, 'dignity': 39, 'disease': 40, 'dismiss': 41, 'documentary': 42, 'dutchman': 43, 'early': 44, 'earn': 45, 'edit': 46, 'embrace': 47, 'emerge': 48, 'english': 49, 'enjoy': 50, 'euro': 51, 'european': 52, 'eventually': 53, 'example': 54, 'fa': 55, 'face': 56, 'family': 57, 'federation': 58, 'feel': 59, 'field': 60, 'figc': 61, 'final': 62, 'firm': 63, 'focus': 64, 'following': 65, 'football': 66, 'force': 67, 'forever': 68, 'found': 69, 'fragile': 70, 'free': 71, 'friday': 72, 'friend': 73, 'genoa': 74, 'gianluca': 75, 'giant': 76, 'giorgia': 77, 'give': 78, 'goal': 79, 'goalscoring': 80, 'god': 81, 'gullit': 82, 'head': 83, 'heart': 84, 'help': 85, 'history': 86, 'hope': 87, 'hug': 88, 'hugh': 89, 'illness': 90, 'industrialist': 91, 'interview': 92, 'investment': 93, 'italian': 94, 'italy': 95, 'jan': 96, 'john': 97, 'join': 98, 'juventus': 99, 'king': 100, 'know': 101, 'later': 102, 'lawson': 103, 'lead': 104, 'league': 105, 'leave': 106, 'life': 107, 'lifelong': 108, 'lift': 109, 'lion': 110, 'live': 111, 'local': 112, 'london': 113, 'long': 114, 'lose': 115, 'lot': 116, 'major': 117, 'management': 118, 'manager': 119, 'managerial': 120, 'mancini': 121, 'march': 122, 'match': 123, 'meloni': 124, 'memory': 125, 'message': 126, 'mettle': 127, 'milan': 128, 'minister': 129, 'minute': 130, 'month': 131, 'mourn': 132, 'move': 133, 'national': 134, 'need': 135, 'netflix': 136, 'new': 137, 'news': 138, 'night': 139, 'november': 140, 'observe': 141, 'old': 142, 'overcome': 143, 'pancreatic': 144, 'pandemic': 145, 'partner': 146, 'pass': 147, 'peace': 148, 'period': 149, 'phase': 150, 'play': 151, 'player': 152, 'possible': 153, 'post': 154, 'prime': 155, 'principles': 156, 'probably': 157, 'push': 158, 'quote': 159, 'rai': 160, 'rediscover': 161, 'reporting': 162, 'return': 163, 'reunite': 164, 'reuters': 165, 'roberto': 166, 'role': 167, 'ruud': 168, 'sack': 169, 'sampdoria': 170, 'say': 171, 'score': 172, 'season': 173, 'second': 174, 'semeraro': 175, 'serie': 176, 'silence': 177, 'sluggish': 178, 'son': 179, 'sport': 180, 'squad': 181, 'stadium': 182, 'standards': 183, 'start': 184, 'statement': 185, 'stellar': 186, 'step': 187, 'stonestreet': 188, 'strike': 189, 'striker': 190, 'success': 191, 'successful': 192, 'summer': 193, 'superficial': 194, 'support': 195, 'surround': 196, 'teach': 197, 'team': 198, 'tearful': 199, 'test': 200, 'thank': 201, 'thomson': 202, 'tier': 203, 'tifosy': 204, 'time': 205, 'title': 206, 'toby': 207, 'touch': 208, 'tournament': 209, 'transfer': 210, 'travel': 211, 'trophy': 212, 'trust': 213, 'turin': 214, 'tv': 215, 'tweet': 216, 'twice': 217, 'twin': 218, 'twitter': 219, 'venue': 220, 'vialli': 221, 'watford': 222, 'way': 223, 'wealthy': 224, 'website': 225, 'weekend': 226, 'wembley': 227, 'wife': 228, 'win': 229, 'winners': 230, 'work': 231, 'year': 232, 'young': 233, 'able': 234, 'adventure': 235, 'alessandro': 236, 'alliance': 237, 'announce': 238, 'appearance': 239, 'armband': 240, 'athleticism': 241, 'attention': 242, 'azzurri': 243, 'battle': 244, 'begin': 245, 'bianconeri': 246, 'big': 247, 'blucerchiato': 248, 'blue': 249, 'boast': 250, 'body': 251, 'botterill': 252, 'break': 253, 'bye': 254, 'captain': 255, 'caption': 256, 'championship': 257, 'charisius': 258, 'charisma': 259, 'chief': 260, 'christian': 261, 'clinch': 262, 'collect': 263, 'community': 264, 'condition': 265, 'confident': 266, 'coveted': 267, 'cremona': 268, 'day': 269, 'death': 270, 'december': 271, 'decision': 272, 'del': 273, 'delaunay': 274, 'di': 275, 'dpa': 276, 'dpatop': 277, 'draw': 278, 'ear': 279, 'edition': 280, 'empics': 281, 'energy': 282, 'england': 283, 'establish': 284, 'europa': 285, 'favorite': 286, 'feat': 287, 'feature': 288, 'feeling': 289, 'fellow': 290, 'fifa': 291, 'figure': 292, 'follow': 293, 'forget': 294, 'form': 295, 'gabriele': 296, 'generation': 297, 'genova': 298, 'getty': 299, 'gianfranco': 300, 'gravina': 301, 'health': 302, 'henri': 303, 'hoist': 304, 'hold': 305, 'home': 306, 'iconic': 307, 'image': 308, 'images': 309, 'immediately': 310, 'impressive': 311, 'improve': 312, 'inaugural': 313, 'include': 314, 'instagram': 315, 'instinct': 316, 'institutional': 317, 'involvement': 318, 'italians': 319, 'jersey': 320, 'july': 321, 'kingdom': 322, 'l': 323, 'legend': 324, 'lombardy': 325, 'luca': 326, 'marshall': 327, 'matteo': 328, 'meet': 329, 'memorable': 330, 'native': 331, 'offensive': 332, 'pa': 333, 'partnership': 334, 'pay': 335, 'penalty': 336, 'perfectly': 337, 'photo': 338, 'picture': 339, 'piero': 340, 'pose': 341, 'premier': 342, 'president': 343, 'professional': 344, 'psychophysical': 345, 'read': 346, 'record': 347, 'remain': 348, 'responsibility': 349, 'round': 350, 'scudetto': 351, 'september': 352, 'share': 353, 'shaun': 354, 'shootout': 355, 'sign': 356, 'skill': 357, 'soccer': 358, 'soil': 359, 'solely': 360, 'soon': 361, 'special': 362, 'sportsperson': 363, 'staff': 364, 'stint': 365, 'take': 366, 'tally': 367, 'teammate': 368, 'technical': 369, 'today': 370, 'tony': 371, 'tribute': 372, 'uc': 373, 'uefa': 374, 'undoubtedly': 375, 'united': 376, 'unparalleled': 377, 'utilize': 378, 'victory': 379, 'world': 380, 'zola': 381, 'assist': 382, 'bear': 383, 'boy': 384, 'brazilian': 385, 'campaign': 386, 'city': 387, 'colon': 388, 'come': 389, 'despite': 390, 'dream': 391, 'farewell': 392, 'go': 393, 'great': 394, 'grow': 395, 'guide': 396, 'late': 397, 'leukaemia': 398, 'longtime': 399, 'man': 400, 'mihajlović': 401, 'northern': 402, 'passing': 403, 'pele': 404, 'remove': 405, 'sacked': 406, 'salute': 407, 'search': 408, 'significant': 409, 'siniša': 410, 'star': 411, 'super': 412, 'tumour': 413, 'ago': 414, 'alive': 415, 'arena': 416, 'atp': 417, 'berrettini': 418, 'bolt': 419, 'bronzetti': 420, 'camilla': 421, 'conference': 422, 'contest': 423, 'course': 424, 'decider': 425, 'despina': 426, 'double': 427, 'editor': 428, 'event': 429, 'fall': 430, 'fritz': 431, 'gre': 432, 'greece': 433, 'group': 434, 'happy': 435, 'hour': 436, 'ita': 437, 'itf': 438, 'ken': 439, 'level': 440, 'lorenzo': 441, 'lucia': 442, 'maria': 443, 'martina': 444, 'material': 445, 'mixed': 446, 'musetti': 447, 'note': 448, 'papamichail': 449, 'place': 450, 'potential': 451, 'press': 452, 'previous': 453, 'rosatello': 454, 'rosewall': 455, 'run': 456, 'sakellaridis': 457, 'sakkari': 458, 'santopadre': 459, 'saturday': 460, 'seal': 461, 'seed': 462, 'shape': 463, 'single': 464, 'states': 465, 'stefanos': 466, 'strong': 467, 'surprisingly': 468, 'taylor': 469, 'thing': 470, 'think': 471, 'threat': 472, 'tie': 473, 'trevisan': 474, 'tsitsipas': 475, 'unbelievable': 476, 'vincenzo': 477, 'week': 478, 'winner': 479, 'accept': 480, 'advantage': 481, 'advertisement': 482, 'alicja': 483, 'aloft': 484, 'americans': 485, 'anger': 486, 'ap': 487, 'australia': 488, 'baker': 489, 'berth': 490, 'bomb': 491, 'centre': 492, 'clash': 493, 'clearly': 494, 'combine': 495, 'competition': 496, 'concentrate': 497, 'consistently': 498, 'court': 499, 'crucial': 500, 'decide': 501, 'defeat': 502, 'difference': 503, 'drop': 504, 'enhance': 505, 'enthralling': 506, 'error': 507, 'excited': 508, 'experience': 509, 'female': 510, 'finalist': 511, 'forehand': 512, 'frances': 513, 'girl': 514, 'good': 515, 'grammatikopoulou': 516, 'grand': 517, 'greek': 518, 'hang': 519, 'have': 520, 'hit': 521, 'hubert': 522, 'huge': 523, 'hurkacz': 524, 'iga': 525, 'jessica': 526, 'keep': 527, 'keys': 528, 'kubot': 529, 'linette': 530, 'lukasz': 531, 'madison': 532, 'magda': 533, 'maintain': 534, 'make': 535, 'mark': 536, 'matchup': 537, 'midway': 538, 'mistake': 539, 'nation': 540, 'nerve': 541, 'ninth': 542, 'open': 543, 'pegula': 544, 'point': 545, 'poland': 546, 'rally': 547, 'rank': 548, 'represent': 549, 'right': 550, 'rosolska': 551, 'runner': 552, 'semifinal': 553, 'serve': 554, 'server': 555, 'service': 556, 'set': 557, 'slam': 558, 'solid': 559, 'spot': 560, 'straight': 561, 'succession': 562, 'sunday': 563, 'sweep': 564, 'swiatek': 565, 'sydney': 566, 'target': 567, 'tennis': 568, 'tiafoe': 569, 'tiebreaker': 570, 'unassailable': 571, 'unbeaten': 572, 'usa': 573, 'valentini': 574, 'wing': 575, 'ahead': 576, 'american': 577, 'baseline': 578, 'bengaluru': 579, 'book': 580, 'booming': 581, 'cameron': 582, 'celebration': 583, 'champion': 584, 'comeback': 585, 'complete': 586, 'convincing': 587, 'deficit': 588, 'dominate': 589, 'doubt': 590, 'edge': 591, 'editing': 592, 'end': 593, 'ensure': 594, 'falter': 595, 'favourite': 596, 'finish': 597, 'flip': 598, 'get': 599, 'having': 600, 'high': 601, 'hot': 602, 'indian': 603, 'job': 604, 'look': 605, 'mix': 606, 'moore': 607, 'number': 608, 'octane': 609, 'opening': 610, 'opponent': 611, 'predominantly': 612, 'proceeding': 613, 'pull': 614, 'quell': 615, 'radnedge': 616, 'reach': 617, 'recover': 618, 'red': 619, 'reduce': 620, 'report': 621, 'rest': 622, 'rubber': 623, 'save': 624, 'script': 625, 'semi': 626, 'send': 627, 'shrivathsa': 628, 'simon': 629, 'spark': 630, 'square': 631, 'sridhar': 632, 'supporter': 633, 'tenacious': 634, 'tense': 635, 'thrilling': 636, 'thunderous': 637, 'tiebreak': 638, 'tight': 639, 'uncharacteristic': 640, 'wells': 641, 'wild': 642, 'angle': 643, 'appear': 644, 'ask': 645, 'away': 646, 'backhand': 647, 'battue': 648, 'belgium': 649, 'bergs': 650, 'bold': 651, 'bring': 652, 'brisbane': 653, 'cent': 654, 'chance': 655, 'characterise': 656, 'clay': 657, 'close': 658, 'commading': 659, 'complain': 660, 'consistency': 661, 'cord': 662, 'credit': 663, 'crowd': 664, 'crucially': 665, 'dazzle': 666, 'dead': 667, 'delicate': 668, 'deny': 669, 'deserve': 670, 'difficult': 671, 'ensue': 672, 'entire': 673, 'epic': 674, 'especially': 675, 'evening': 676, 'extend': 677, 'failure': 678, 'far': 679, 'fault': 680, 'fierce': 681, 'fight': 682, 'fine': 683, 'flow': 684, 'formula': 685, 'fortune': 686, 'game': 687, 'garros': 688, 'gourley': 689, 'gym': 690, 'halt': 691, 'hand': 692, 'hard': 693, 'heavy': 694, 'ill': 695, 'imitate': 696, 'incredible': 697, 'inhibit': 698, 'inspire': 699, 'james': 700, 'key': 701, 'let': 702, 'manage': 703, 'maybe': 704, 'meaning': 705, 'milestone': 706, 'miss': 707, 'momentum': 708, 'net': 709, 'official': 710, 'outside': 711, 'page': 712, 'passage': 713, 'pepperstone': 714, 'perfect': 715, 'performance': 716, 'playing': 717, 'position': 718, 'previously': 719, 'prove': 720, 'pummel': 721, 'rankings': 722, 'rapturous': 723, 'respond': 724, 'roland': 725, 'schedule': 726, 'scintillate': 727, 'see': 728, 'series': 729, 'shot': 730, 'show': 731, 'signature': 732, 'spectacular': 733, 'splash': 734, 'stage': 735, 'stay': 736, 'stressful': 737, 'stroke': 738, 'superb': 739, 'surge': 740, 'terre': 741, 'thrill': 742, 'timely': 743, 'tonight': 744, 'triumph': 745, 'upset': 746, 'visit': 747, 'volley': 748, 'want': 749, 'well': 750, 'woman': 751, 'wrest': 752, 'youtube': 753, 'zizou': 754, 'ability': 755, 'accord': 756, 'add': 757, 'afp': 758, 'africa': 759, 'aid': 760, 'alessio': 761, 'anitta': 762, 'appeal': 763, 'appropriate': 764, 'ar': 765, 'area': 766, 'arrival': 767, 'assign': 768, 'assistance': 769, 'asylum': 770, 'attempt': 771, 'authority': 772, 'borders': 773, 'bp': 774, 'brussels': 775, 'change': 776, 'charity': 777, 'clarify': 778, 'coastguard': 779, 'compound': 780, 'confiscate': 781, 'consider': 782, 'contradict': 783, 'convert': 784, 'cover': 785, 'crossing': 786, 'dangerous': 787, 'datum': 788, 'deal': 789, 'decreased': 790, 'decree': 791, 'design': 792, 'disembarkation': 793, 'distress': 794, 'doctor': 795, 'drown': 796, 'dry': 797, 'duty': 798, 'effect': 799, 'enshrine': 800, 'eu': 801, 'factor': 802, 'ferry': 803, 'frequently': 804, 'gather': 805, 'government': 806, 'hipper': 807, 'human': 808, 'ide': 809, 'immediate': 810, 'inevitably': 811, 'information': 812, 'initiate': 813, 'interior': 814, 'international': 815, 'introduce': 816, 'iom': 817, 'joint': 818, 'land': 819, 'landing': 820, 'law': 821, 'lawmaker': 822, 'limit': 823, 'maritime': 824, 'matter': 825, 'mediterranean': 826, 'migrant': 827, 'migration': 828, 'ministry': 829, 'msf': 830, 'multiple': 831, 'navy': 832, 'north': 833, 'obligation': 834, 'october': 835, 'office': 836, 'oppose': 837, 'order': 838, 'organisation': 839, 'organization': 840, 'parliament': 841, 'people': 842, 'perform': 843, 'ph': 844, 'port': 845, 'presence': 846, 'private': 847, 'problem': 848, 'proceed': 849, 'process': 850, 'prolonged': 851, 'reaction': 852, 'recent': 853, 'recently': 854, 'refugee': 855, 'render': 856, 'request': 857, 'rescue': 858, 'respect': 859, 'result': 860, 'rome': 861, 'rule': 862, 'safety': 863, 'sar': 864, 'sea': 865, 'ship': 866, 'shore': 867, 'spokeswoman': 868, 'state': 869, 'stop': 870, 'thursday': 871, 'tragically': 872, 'tricani': 873, 'trouble': 874, 'un': 875, 'undergo': 876, 'urge': 877, 'vessel': 878, 'vow': 879, 'account': 880, 'accuse': 881, 'action': 882, 'actor': 883, 'address': 884, 'advance': 885, 'agent': 886, 'agree': 887, 'airport': 888, 'allege': 889, 'allegedly': 890, 'approach': 891, 'april': 892, 'arrest': 893, 'art': 894, 'assistant': 895, 'attorney': 896, 'atwood': 897, 'august': 898, 'author': 899, 'believe': 900, 'bernardini': 901, 'booker': 902, 'british': 903, 'bureau': 904, 'canada': 905, 'case': 906, 'catch': 907, 'cautionary': 908, 'chapter': 909, 'colleen': 910, 'company': 911, 'confidential': 912, 'copy': 913, 'courtroom': 914, 'create': 915, 'creative': 916, 'criminal': 917, 'damian': 918, 'department': 919, 'deploy': 920, 'director': 921, 'district': 922, 'domain': 923, 'driscoll': 924, 'email': 925, 'enforcement': 926, 'engineer': 927, 'ersatz': 928, 'ethan': 929, 'exist': 930, 'f': 931, 'federal': 932, 'filippo': 933, 'forthcoming': 934, 'forward': 935, 'fraud': 936, 'fraudulently': 937, 'gain': 938, 'guilty': 939, 'handmaid': 940, 'hawke': 941, 'hearing': 942, 'house': 943, 'ian': 944, 'idea': 945, 'impersonate': 946, 'individual': 947, 'industry': 948, 'insider': 949, 'internet': 950, 'investigation': 951, 'investigator': 952, 'january': 953, 'judge': 954, 'justice': 955, 'kennedy': 956, 'knowledge': 957, 'letter': 958, 'link': 959, 'literary': 960, 'lowercase': 961, 'm': 962, 'manuscript': 963, 'margaret': 964, 'mcewan': 965, 'mcmahon': 966, 'member': 967, 'michael': 968, 'mimic': 969, 'misdeed': 970, 'motive': 971, 'mr': 972, 'multi': 973, 'name': 974, 'obtain': 975, 'offer': 976, 'original': 977, 'password': 978, 'phishing': 979, 'plead': 980, 'plot': 981, 'praise': 982, 'prison': 983, 'prize': 984, 'prompt': 985, 'prosecutor': 986, 'provide': 987, 'publication': 988, 'publishing': 989, 'pulitzer': 990, 'r': 991, 'real': 992, 'register': 993, 'restitution': 994, 'scheme': 995, 'scout': 996, 'sell': 997, 'sentencing': 998, 'similar': 999, 'slight': 1000, 'southern': 1001, 'spend': 1002, 'steal': 1003, 'storyline': 1004, 'tactic': 1005, 'tale': 1006, 'talent': 1007, 'targette': 1008, 'theft': 1009, 'try': 1010, 'twist': 1011, 'unpublished': 1012, 'upwards': 1013, 'user': 1014, 'variation': 1015, 'webpage': 1016, 'williams': 1017, 'wire': 1018, 'worker': 1019, 'write': 1020, 'writer': 1021, 'york': 1022, 'actually': 1023, 'advice': 1024, 'advise': 1025, 'allow': 1026, 'almighty': 1027, 'antonello': 1028, 'argument': 1029, 'arrow': 1030, 'arts': 1031, 'atomic': 1032, 'attest': 1033, 'average': 1034, 'bad': 1035, 'bill': 1036, 'blogger': 1037, 'boil': 1038, 'boiling': 1039, 'bolognese': 1040, 'breakdown': 1041, 'broadhurst': 1042, 'build': 1043, 'cause': 1044, 'celsius': 1045, 'century': 1046, 'ceramic': 1047, 'chef': 1048, 'chefs': 1049, 'choose': 1050, 'clump': 1051, 'cold': 1052, 'college': 1053, 'colonna': 1054, 'combination': 1055, 'completely': 1056, 'concentration': 1057, 'contribute': 1058, 'controversy': 1059, 'conversation': 1060, 'cook': 1061, 'cooked': 1062, 'cooking': 1063, 'cool': 1064, 'correct': 1065, 'cost': 1066, 'cuisine': 1067, 'david': 1068, 'definitely': 1069, 'degree': 1070, 'depend': 1071, 'depict': 1072, 'different': 1073, 'discovery': 1074, 'disorder': 1075, 'dissolve': 1076, 'duration': 1077, 'eat': 1078, 'economical': 1079, 'edible': 1080, 'effective': 1081, 'efficiency': 1082, 'efficient': 1083, 'expand': 1084, 'experiment': 1085, 'fairhurst': 1086, 'find': 1087, 'firstly': 1088, 'fluctuation': 1089, 'food': 1090, 'fully': 1091, 'gas': 1092, 'gentle': 1093, 'giorgio': 1094, 'gram': 1095, 'granule': 1096, 'graphic': 1097, 'halve': 1098, 'happen': 1099, 'hardly': 1100, 'heat': 1101, 'heating': 1102, 'heavyweight': 1103, 'hob': 1104, 'impact': 1105, 'induction': 1106, 'insufficient': 1107, 'interplay': 1108, 'investigate': 1109, 'kitchen': 1110, 'klaus': 1111, 'large': 1112, 'lecturer': 1113, 'left': 1114, 'lid': 1115, 'litre': 1116, 'love': 1117, 'lowdown': 1118, 'medium': 1119, 'method': 1120, 'mia': 1121, 'michelin': 1122, 'microwave': 1123, 'minimal': 1124, 'money': 1125, 'mute': 1126, 'nielsen': 1127, 'nobel': 1128, 'notoriously': 1129, 'nottingham': 1130, 'overall': 1131, 'pan': 1132, 'parallel': 1133, 'parisi': 1134, 'pasta': 1135, 'pause': 1136, 'penetrate': 1137, 'penne': 1138, 'penny': 1139, 'pexels': 1140, 'physical': 1141, 'physicist': 1142, 'physics': 1143, 'pick': 1144, 'piece': 1145, 'pizza': 1146, 'planetary': 1147, 'plunge': 1148, 'portion': 1149, 'pot': 1150, 'pre': 1151, 'price': 1152, 'principal': 1153, 'produce': 1154, 'professor': 1155, 'protective': 1156, 'protein': 1157, 'quality': 1158, 'question': 1159, 'quickly': 1160, 'ragu': 1161, 'regular': 1162, 'rehydrate': 1163, 'rehydration': 1164, 'release': 1165, 'require': 1166, 'requirement': 1167, 'residual': 1168, 'response': 1169, 'restaurant': 1170, 'rolling': 1171, 'ross': 1172, 'row': 1173, 'rubbery': 1174, 'salt': 1175, 'sauce': 1176, 'saving': 1177, 'scale': 1178, 'school': 1179, 'science': 1180, 'scientist': 1181, 'secondly': 1182, 'seek': 1183, 'separate': 1184, 'significantly': 1185, 'simmer': 1186, 'simmering': 1187, 'simple': 1188, 'slow': 1189, 'soak': 1190, 'soaked': 1191, 'soften': 1192, 'space': 1193, 'spill': 1194, 'standard': 1195, 'starch': 1196, 'stirring': 1197, 'stove': 1198, 'strand': 1199, 'student': 1200, 'sufficient': 1201, 'suggest': 1202, 'supplied': 1203, 'surprising': 1204, 'system': 1205, 'tangle': 1206, 'taste': 1207, 'technology': 1208, 'thickness': 1209, 'thought': 1210, 'topping': 1211, 'total': 1212, 'trent': 1213, 'turn': 1214, 'typically': 1215, 'uk': 1216, 'unaffected': 1217, 'understandably': 1218, 'unevenly': 1219, 'university': 1220, 'unsatisfactory': 1221, 'use': 1222, 'volume': 1223, 'wait': 1224, 'watch': 1225, 'water': 1226, 'weigh': 1227, 'abbreviate': 1228, 'acknowledge': 1229, 'amuse': 1230, 'anonymous': 1231, 'apparently': 1232, 'ass': 1233, 'automaker': 1234, 'benefit': 1235, 'continue': 1236, 'courtesy': 1237, 'coverage': 1238, 'crude': 1239, 'dig': 1240, 'drive': 1241, 'equally': 1242, 'escape': 1243, 'expect': 1244, 'fairly': 1245, 'funny': 1246, 'generate': 1247, 'genitali': 1248, 'genitalia': 1249, 'getting': 1250, 'giggle': 1251, 'guess': 1252, 'gutter': 1253, 'handle': 1254, 'heh': 1255, 'humor': 1256, 'innocuous': 1257, 'joke': 1258, 'kinda': 1259, 'language': 1260, 'literally': 1261, 'mass': 1262, 'massachusetts': 1263, 'minded': 1264, 'notice': 1265, 'offend': 1266, 'par': 1267, 'public': 1268, 'pun': 1269, 'reason': 1270, 'recognize': 1271, 'regularly': 1272, 'relation': 1273, 'sense': 1274, 'sex': 1275, 'slide': 1276, 'social': 1277, 'source': 1278, 'speak': 1279, 'speaker': 1280, 'stand': 1281, 'suggestive': 1282, 'surprised': 1283, 'tacitly': 1284, 'tell': 1285, 'translate': 1286, 'underscore': 1287, 'viral': 1288, 'volkswagen': 1289, 'vw': 1290, 'wave': 1291, 'wish': 1292, 'word': 1293, 'aiu': 1294, 'alberto': 1295, 'anti': 1296, 'athlete': 1297, 'athletic': 1298, 'athletics': 1299, 'available': 1300, 'ban': 1301, 'barbi': 1302, 'boston': 1303, 'braconi': 1304, 'cheat': 1305, 'database': 1306, 'dedicate': 1307, 'dedication': 1308, 'doping': 1309, 'drug': 1310, 'elite': 1311, 'endurance': 1312, 'faces': 1313, 'fast': 1314, 'fidal': 1315, 'headline': 1316, 'honest': 1317, 'houlihan': 1318, 'initial': 1319, 'integrity': 1320, 'lifetime': 1321, 'list': 1322, 'marathon': 1323, 'mission': 1324, 'non': 1325, 'offense': 1326, 'pallanza': 1327, 'positive': 1328, 'possession': 1329, 'power': 1330, 'prohibit': 1331, 'provisionally': 1332, 'race': 1333, 'receive': 1334, 'related': 1335, 'respective': 1336, 'road': 1337, 'salazar': 1338, 'sample': 1339, 'sanction': 1340, 'scrutiny': 1341, 'shelby': 1342, 'sporting': 1343, 'story': 1344, 'strava': 1345, 'substance': 1346, 'suspend': 1347, 'suspension': 1348, 'tack': 1349, 'traffic': 1350, 'trafficking': 1351, 'unit': 1352, 'unknown': 1353, 'violation': 1354, 'will': 1355, 'discount': 1356, 'kick': 1357, 'region': 1358, 'sale': 1359, 'shop': 1360, 'store': 1361, 'winter': 1362, 'xinhua': 1363, 'azzurro': 1364, 'balsamese': 1365, 'bulgaria': 1366, 'call': 1367, 'castano': 1368, 'central': 1369, 'cups': 1370, 'defender': 1371, 'drawn': 1372, 'grateful': 1373, 'hungary': 1374, 'legnano': 1375, 'loss': 1376, 'main': 1377, 'modernise': 1378, 'painful': 1379, 'passion': 1380, 'quarter': 1381, 'rekindle': 1382, 'replay': 1383, 'respectively': 1384, 'trainee': 1385, 'triestina': 1386, 'ussr': 1387, 'wear': 1388, 'yugoslavia': 1389, 'avondale': 1390, 'cocktail': 1391, 'concept': 1392, 'dish': 1393, 'drinking': 1394, 'fresh': 1395, 'grandmother': 1396, 'homage': 1397, 'innovative': 1398, 'inspired': 1399, 'josephine': 1400, 'menu': 1401, 'owner': 1402, 'beginning': 1403, 'ben': 1404, 'brennan': 1405, 'catapult': 1406, 'classic': 1407, 'climb': 1408, 'commentary': 1409, 'critical': 1410, 'cross': 1411, 'damage': 1412, 'de': 1413, 'diggins': 1414, 'draft': 1415, 'effort': 1416, 'eventual': 1417, 'faehndrich': 1418, 'femme': 1419, 'fiemme': 1420, 'fifth': 1421, 'finland': 1422, 'fis': 1423, 'freestyle': 1424, 'games': 1425, 'haavard': 1426, 'hill': 1427, 'hilly': 1428, 'inch': 1429, 'inflict': 1430, 'inside': 1431, 'jc': 1432, 'jessie': 1433, 'johannes': 1434, 'journey': 1435, 'julia': 1436, 'kern': 1437, 'ketterson': 1438, 'kind': 1439, 'klaebo': 1440, 'kleabo': 1441, 'krista': 1442, 'like': 1443, 'line': 1444, 'loser': 1445, 'lucky': 1446, 'mean': 1447, 'men': 1448, 'mere': 1449, 'mess': 1450, 'meter': 1451, 'mid': 1452, 'moseby': 1453, 'nadine': 1454, 'norway': 1455, 'ogden': 1456, 'oh': 1457, 'olympic': 1458, 'pace': 1459, 'parmakowski': 1460, 'personal': 1461, 'qualifier': 1462, 'qualify': 1463, 'quarterfinal': 1464, 'reflect': 1465, 'reset': 1466, 'rosie': 1467, 'schoonmaker': 1468, 'semis': 1469, 'seventh': 1470, 'site': 1471, 'situation': 1472, 'skate': 1473, 'ski': 1474, 'skiing': 1475, 'smart': 1476, 'speed': 1477, 'sprint': 1478, 'sprinting': 1479, 'stream': 1480, 'switzerland': 1481, 'theme': 1482, 'till': 1483, 'tour': 1484, 'tow': 1485, 'track': 1486, 'unique': 1487, 'val': 1488, 'veteran': 1489, 'women': 1490, 'zak': 1491, 'absorb': 1492, 'accelerate': 1493, 'active': 1494, 'addition': 1495, 'admir': 1496, 'advances': 1497, 'ancient': 1498, 'aqueduct': 1499, 'archeological': 1500, 'architect': 1501, 'architecture': 1502, 'ash': 1503, 'associate': 1504, 'assume': 1505, 'attribute': 1506, 'automatically': 1507, 'bay': 1508, 'biologically': 1509, 'bother': 1510, 'bright': 1511, 'brittle': 1512, 'building': 1513, 'calcite': 1514, 'calcium': 1515, 'capability': 1516, 'carbon': 1517, 'carbonate': 1518, 'carry': 1519, 'cement': 1520, 'characteristically': 1521, 'characterization': 1522, 'chemical': 1523, 'chemistry': 1524, 'chunk': 1525, 'civil': 1526, 'clast': 1527, 'climate': 1528, 'clue': 1529, 'commercialize': 1530, 'component': 1531, 'composite': 1532, 'conclude': 1533, 'concrete': 1534, 'construct': 1535, 'construction': 1536, 'contain': 1537, 'control': 1538, 'crack': 1539, 'crumble': 1540, 'cure': 1541, 'current': 1542, 'currently': 1543, 'decade': 1544, 'dei': 1545, 'deliberately': 1546, 'deliver': 1547, 'detailed': 1548, 'determine': 1549, 'develop': 1550, 'development': 1551, 'dioxide': 1552, 'directly': 1553, 'discover': 1554, 'disregard': 1555, 'distinctive': 1556, 'dmat': 1557, 'dock': 1558, 'doctoral': 1559, 'dome': 1560, 'durability': 1561, 'durable': 1562, 'easily': 1563, 'emission': 1564, 'empire': 1565, 'endure': 1566, 'engineering': 1567, 'environmental': 1568, 'evidence': 1569, 'examination': 1570, 'exciting': 1571, 'exhibit': 1572, 'exothermic': 1573, 'extended': 1574, 'extreme': 1575, 'famed': 1576, 'fascinate': 1577, 'fill': 1578, 'finding': 1579, 'formulation': 1580, 'fractured': 1581, 'functional': 1582, 'functionality': 1583, 'global': 1584, 'greenhouse': 1585, 'harsh': 1586, 'harvard': 1587, 'heal': 1588, 'highly': 1589, 'historian': 1590, 'historically': 1591, 'hypothesis': 1592, 'identical': 1593, 'imaging': 1594, 'improvement': 1595, 'inclusion': 1596, 'incorporate': 1597, 'increase': 1598, 'ingredient': 1599, 'insight': 1600, 'instead': 1601, 'institute': 1602, 'instituto': 1603, 'intact': 1604, 'janille': 1605, 'journal': 1606, 'lab': 1607, 'laboratory': 1608, 'lifespan': 1609, 'light': 1610, 'lime': 1611, 'linda': 1612, 'little': 1613, 'location': 1614, 'low': 1615, 'manufacturing': 1616, 'mapping': 1617, 'maragh': 1618, 'masic': 1619, 'massive': 1620, 'master': 1621, 'materiali': 1622, 'meccanica': 1623, 'mechanism': 1624, 'merely': 1625, 'michel': 1626, 'millennium': 1627, 'millimeter': 1628, 'mineral': 1629, 'mit': 1630, 'mixing': 1631, 'mixture': 1632, 'modern': 1633, 'modify': 1634, 'multiscale': 1635, 'museum': 1636, 'nanoparticulate': 1637, 'naples': 1638, 'nature': 1639, 'network': 1640, 'optimize': 1641, 'originate': 1642, 'outstanding': 1643, 'pantheon': 1644, 'paolo': 1645, 'paper': 1646, 'particularly': 1647, 'paste': 1648, 'percent': 1649, 'phd': 1650, 'pioneer': 1651, 'poor': 1652, 'pozzolanic': 1653, 'pozzuoli': 1654, 'practice': 1655, 'preferentially': 1656, 'present': 1657, 'print': 1658, 'priverno': 1659, 'product': 1660, 'production': 1661, 'progress': 1662, 'propose': 1663, 'publish': 1664, 'quicklime': 1665, 'raw': 1666, 'react': 1667, 'reactive': 1668, 'recipe': 1669, 'recrystallize': 1670, 'refer': 1671, 'research': 1672, 'researcher': 1673, 'resolution': 1674, 'responsible': 1675, 'roman': 1676, 'romans': 1677, 'sabatini': 1678, 'saturate': 1679, 'seawall': 1680, 'secret': 1681, 'seismically': 1682, 'self': 1683, 'sewer': 1684, 'seymour': 1685, 'simply': 1686, 'slaked': 1687, 'slaking': 1688, 'sloppy': 1689, 'small': 1690, 'solution': 1691, 'specific': 1692, 'spectroscopic': 1693, 'spontaneously': 1694, 'spread': 1695, 'strategy': 1696, 'strengthen': 1697, 'structure': 1698, 'study': 1699, 'sure': 1700, 'surface': 1701, 'survive': 1702, 'technique': 1703, 'temperature': 1704, 'tiny': 1705, 'tommaso': 1706, 'twofold': 1707, 'ubiquitous': 1708, 'ultradurable': 1709, 'unrecognized': 1710, 'unreinforced': 1711, 'vast': 1712, 'volcanic': 1713, 'weaver': 1714, 'weight': 1715, 'white': 1716, 'wonder': 1717, 'wyss': 1718, 'agata': 1719, 'ana': 1720, 'andrea': 1721, 'argentine': 1722, 'attract': 1723, 'b': 1724, 'brother': 1725, 'centasso': 1726, 'childhood': 1727, 'congrats': 1728, 'd': 1729, 'dad': 1730, 'diario': 1731, 'disabled': 1732, 'don': 1733, 'euros': 1734, 'fan': 1735, 'follower': 1736, 'fond': 1737, 'footballer': 1738, 'footballing': 1739, 'garden': 1740, 'hail': 1741, 'interest': 1742, 'kit': 1743, 'lavello': 1744, 'lioness': 1745, 'markovic': 1746, 'mazio': 1747, 'midfielder': 1748, 'migliorini': 1749, 'outfit': 1750, 'outlet': 1751, 'overflow': 1752, 'pitch': 1753, 'popular': 1754, 'shirt': 1755, 'skimpy': 1756, 'spal': 1757, 'stunning': 1758, 'talk': 1759, 'venezia': 1760, 'afternoon': 1761, 'alexia': 1762, 'asian': 1763, 'butrio': 1764, 'c': 1765, 'camp': 1766, 'card': 1767, 'castions': 1768, 'cecchetti': 1769, 'dublin': 1770, 'elisa': 1771, 'erika': 1772, 'fabrizia': 1773, 'finals': 1774, 'florida': 1775, 'gasparotto': 1776, 'giulia': 1777, 'host': 1778, 'inter': 1779, 'ireland': 1780, 'lacatena': 1781, 'longhi': 1782, 'marrone': 1783, 'marta': 1784, 'morning': 1785, 'olympians': 1786, 'piancastelli': 1787, 'preparation': 1788, 'qualified': 1789, 'select': 1790, 'session': 1791, 'softball': 1792, 'south': 1793, 'spain': 1794, 'standing': 1795, 'strada': 1796, 'tampa': 1797, 'tomorrow': 1798, 'train': 1799, 'training': 1800, 'tuesday': 1801, 'valencia': 1802, 'venezuela': 1803, 'zealand': 1804}\n"
          ]
        }
      ]
    },
    {
      "cell_type": "code",
      "source": [
        "#Filtering out low-frequency and high-frequency tokens, also limit the vocabulary to a max of 1000 words\n",
        "dictionary.filter_extremes(no_below=5, no_above=0.5, keep_n=1000)"
      ],
      "metadata": {
        "id": "2WutXWSY_G8v"
      },
      "execution_count": 117,
      "outputs": []
    },
    {
      "cell_type": "code",
      "source": [
        "#Creating a corpus\n",
        "corpus = [dictionary.doc2bow(doc) for doc in news_df['tokens']]"
      ],
      "metadata": {
        "id": "FzM96DbR_JMf"
      },
      "execution_count": 118,
      "outputs": []
    },
    {
      "cell_type": "code",
      "source": [
        "#Building a model with LDA that represents topics as word probabilities and allows for uncovering latent or hidden topics as it clusters the words based on their co-occurrence in a respective document\n",
        "lda_model = LdaMulticore(corpus=corpus, id2word=dictionary, iterations=50, num_topics=10, workers = 4, passes=10)"
      ],
      "metadata": {
        "id": "qVdYQUf4_Meu"
      },
      "execution_count": 119,
      "outputs": []
    },
    {
      "cell_type": "code",
      "source": [
        "#Calculating the coherence score using C_umass to measure the degree of semantic similarity between high scoring words in each topic\n",
        "topics = []\n",
        "score = []\n",
        "for i in range (1,20,1):   \n",
        "  lda_model = LdaMulticore(corpus=corpus, id2word=dictionary, iterations=10, num_topics=i, workers = 4, passes=10, random_state=100)   \n",
        "  cm = CoherenceModel(model=lda_model, corpus=corpus, dictionary=dictionary, coherence='u_mass')   \n",
        "  topics.append(i)\n",
        "  score.append(cm.get_coherence())\n",
        "plt.plot(topics, score)\n",
        "plt.xlabel('Number of Topics')\n",
        "plt.ylabel('Coherence Score')\n",
        "plt.show()"
      ],
      "metadata": {
        "colab": {
          "base_uri": "https://localhost:8080/",
          "height": 285
        },
        "id": "R5cW3aRH_Q55",
        "outputId": "d742cfc5-009f-48ab-b719-b3ad35c32682"
      },
      "execution_count": 120,
      "outputs": [
        {
          "output_type": "display_data",
          "data": {
            "text/plain": [
              "<Figure size 432x288 with 1 Axes>"
            ],
            "image/png": "[encoded data removed]"
          },
          "metadata": {}
        }
      ]
    },
    {
      "cell_type": "code",
      "source": [
        "#Calculating the coherence score using C_v\n",
        "topics = []\n",
        "score = []\n",
        "for i in range(1,20,1):  \n",
        "  lda_model = LdaMulticore(corpus=corpus, id2word=dictionary, iterations=10, num_topics=i, workers = 4, passes=10, random_state=100)   \n",
        "  cm = CoherenceModel(model=lda_model, texts = news_df['tokens'], corpus=corpus, dictionary=dictionary, coherence='c_v')   \n",
        "  topics.append(i)\n",
        "  score.append(cm.get_coherence())\n",
        "plt.plot(topics, score)\n",
        "plt.xlabel('Number of Topics')\n",
        "plt.ylabel('Coherence Score')\n",
        "plt.show()"
      ],
      "metadata": {
        "colab": {
          "base_uri": "https://localhost:8080/",
          "height": 285
        },
        "id": "Fu6bFFfr_Zp-",
        "outputId": "34910b32-c11a-4af8-b0d3-da719f531897"
      },
      "execution_count": 121,
      "outputs": [
        {
          "output_type": "display_data",
          "data": {
            "text/plain": [
              "<Figure size 432x288 with 1 Axes>"
            ],
            "image/png": "[encoded data removed]"
          },
          "metadata": {}
        }
      ]
    },
    {
      "cell_type": "code",
      "source": [
        "#Printing out the results\n",
        "lda_model = LdaMulticore(corpus=corpus, id2word=dictionary, iterations=100, num_topics=6, workers = 4, passes=100)\n",
        "for top in lda_model.print_topics(10):\n",
        "  print(top)"
      ],
      "metadata": {
        "colab": {
          "base_uri": "https://localhost:8080/"
        },
        "id": "HYfXbJrv_jQV",
        "outputId": "6664dd3d-76bb-4ab6-8f72-106e5ab59293"
      },
      "execution_count": 122,
      "outputs": [
        {
          "output_type": "stream",
          "name": "stdout",
          "text": [
            "(0, '0.065*\"energy\" + 0.053*\"finish\" + 0.047*\"start\" + 0.044*\"country\" + 0.042*\"way\" + 0.042*\"second\" + 0.041*\"lead\" + 0.040*\"go\" + 0.040*\"make\" + 0.036*\"di\"')\n",
            "(1, '0.104*\"hold\" + 0.080*\"squad\" + 0.079*\"cup\" + 0.063*\"football\" + 0.056*\"match\" + 0.055*\"follow\" + 0.035*\"european\" + 0.032*\"season\" + 0.031*\"play\" + 0.030*\"united\"')\n",
            "(2, '0.078*\"new\" + 0.078*\"people\" + 0.050*\"play\" + 0.048*\"work\" + 0.036*\"high\" + 0.036*\"football\" + 0.036*\"include\" + 0.035*\"old\" + 0.029*\"serie\" + 0.029*\"result\"')\n",
            "(3, '0.120*\"match\" + 0.078*\"united\" + 0.066*\"set\" + 0.059*\"think\" + 0.056*\"lead\" + 0.044*\"break\" + 0.043*\"saturday\" + 0.042*\"point\" + 0.038*\"play\" + 0.034*\"states\"')\n",
            "(4, '0.151*\"cup\" + 0.044*\"european\" + 0.040*\"play\" + 0.035*\"live\" + 0.035*\"friday\" + 0.034*\"lead\" + 0.032*\"football\" + 0.030*\"long\" + 0.030*\"hope\" + 0.024*\"player\"')\n",
            "(5, '0.342*\"season\" + 0.137*\"come\" + 0.051*\"people\" + 0.007*\"super\" + 0.007*\"way\" + 0.007*\"old\" + 0.007*\"long\" + 0.007*\"give\" + 0.007*\"football\" + 0.007*\"go\"')\n"
          ]
        }
      ]
    },
    {
      "cell_type": "code",
      "source": [
        "#Distribution of topics in a document\n",
        "lda_model[corpus][0]"
      ],
      "metadata": {
        "colab": {
          "base_uri": "https://localhost:8080/"
        },
        "id": "ZadyAKFQ_mj_",
        "outputId": "89b8629f-8ca9-4145-c9e2-d84f2c75e273"
      },
      "execution_count": 123,
      "outputs": [
        {
          "output_type": "execute_result",
          "data": {
            "text/plain": [
              "[(4, 0.98413837)]"
            ]
          },
          "metadata": {},
          "execution_count": 123
        }
      ]
    },
    {
      "cell_type": "code",
      "source": [
        "#Visualization of topics\n",
        "lda_display = pyLDAvis.gensim_models.prepare(lda_model, corpus, dictionary)\n",
        "pyLDAvis.display(lda_display)"
      ],
      "metadata": {
        "colab": {
          "base_uri": "https://localhost:8080/",
          "height": 915
        },
        "id": "vzKlZn2m_quv",
        "outputId": "7220bac0-929a-40c9-aea8-cc26dde1f51f"
      },
      "execution_count": 124,
      "outputs": [
        {
          "output_type": "stream",
          "name": "stderr",
          "text": [
            "/usr/local/lib/python3.8/dist-packages/pyLDAvis/_prepare.py:246: FutureWarning: In a future version of pandas all arguments of DataFrame.drop except for the argument 'labels' will be keyword-only\n",
            "  default_term_info = default_term_info.sort_values(\n"
          ]
        },
        {
          "output_type": "execute_result",
          "data": {
            "text/plain": [
              "<IPython.core.display.HTML object>"
            ],
            "text/html": [
              "\n",
              "<link rel=\"stylesheet\" type=\"text/css\" href=\"https://cdn.jsdelivr.net/gh/bmabey/pyLDAvis@3.3.1/pyLDAvis/js/ldavis.v1.0.0.css\">\n",
              "\n",
              "\n",
              "<div id=\"ldavis_el3391407037697507684546570221\"></div>\n",
              "<script type=\"text/javascript\">\n",
              "\n",
              "var ldavis_el3391407037697507684546570221_data = {\"mdsDat\": {\"x\": [-0.2178148504795041, 0.04421977884084364, 0.16514084468682108, 0.039279466154469374, -0.0640441491133088, 0.03321890991067846], \"y\": [-0.0964131543742211, 0.012383148623952971, -0.16008010467717151, 0.12122327025226667, 0.04067099521164997, 0.08221584496352301], \"topics\": [1, 2, 3, 4, 5, 6], \"cluster\": [1, 1, 1, 1, 1, 1], \"Freq\": [26.823770645029654, 22.502773666310688, 21.919167049625948, 17.925899622938264, 8.935806656882264, 1.8925823592131785]}, \"tinfo\": {\"Term\": [\"season\", \"come\", \"cup\", \"match\", \"people\", \"hold\", \"united\", \"squad\", \"new\", \"football\", \"energy\", \"set\", \"think\", \"finish\", \"follow\", \"european\", \"di\", \"work\", \"break\", \"way\", \"end\", \"friday\", \"states\", \"saturday\", \"high\", \"include\", \"matteo\", \"live\", \"lead\", \"serie\", \"think\", \"united\", \"set\", \"states\", \"match\", \"matteo\", \"break\", \"saturday\", \"point\", \"mixed\", \"super\", \"victory\", \"serve\", \"record\", \"lead\", \"player\", \"lot\", \"score\", \"head\", \"face\", \"week\", \"play\", \"take\", \"come\", \"old\", \"minute\", \"help\", \"give\", \"place\", \"long\", \"cup\", \"hope\", \"cup\", \"live\", \"european\", \"career\", \"focus\", \"early\", \"score\", \"friday\", \"possible\", \"long\", \"record\", \"victory\", \"big\", \"serie\", \"player\", \"head\", \"statement\", \"football\", \"season\", \"give\", \"lot\", \"hold\", \"way\", \"include\", \"need\", \"play\", \"old\", \"second\", \"help\", \"lead\", \"new\", \"take\", \"end\", \"energy\", \"finish\", \"look\", \"way\", \"go\", \"make\", \"second\", \"country\", \"di\", \"start\", \"need\", \"big\", \"today\", \"minute\", \"serve\", \"friday\", \"place\", \"early\", \"high\", \"week\", \"live\", \"result\", \"career\", \"take\", \"lead\", \"saturday\", \"begin\", \"work\", \"help\", \"come\", \"cup\", \"people\", \"life\", \"new\", \"include\", \"work\", \"result\", \"high\", \"statement\", \"old\", \"serie\", \"begin\", \"follow\", \"focus\", \"long\", \"place\", \"football\", \"face\", \"possible\", \"play\", \"today\", \"hope\", \"week\", \"mixed\", \"help\", \"come\", \"start\", \"di\", \"give\", \"head\", \"take\", \"european\", \"squad\", \"hold\", \"follow\", \"begin\", \"football\", \"european\", \"season\", \"di\", \"today\", \"matteo\", \"face\", \"serie\", \"look\", \"cup\", \"states\", \"player\", \"match\", \"minute\", \"united\", \"finish\", \"give\", \"break\", \"come\", \"country\", \"energy\", \"play\", \"new\", \"start\", \"set\", \"life\", \"focus\", \"record\", \"career\", \"take\", \"season\", \"come\", \"people\", \"life\", \"statement\", \"focus\", \"early\", \"record\", \"begin\", \"result\", \"possible\", \"super\", \"end\", \"career\", \"squad\", \"today\", \"include\", \"need\", \"hope\", \"week\", \"matteo\", \"big\", \"mixed\", \"lot\", \"score\", \"follow\", \"look\", \"high\", \"states\", \"serie\", \"victory\", \"way\", \"give\", \"old\", \"go\", \"long\", \"live\", \"football\", \"take\", \"play\", \"lead\", \"cup\", \"new\", \"european\", \"head\"], \"Freq\": [11.0, 11.0, 39.0, 29.0, 11.0, 10.0, 17.0, 6.0, 15.0, 14.0, 11.0, 15.0, 13.0, 10.0, 7.0, 11.0, 9.0, 10.0, 11.0, 10.0, 6.0, 11.0, 8.0, 12.0, 8.0, 7.0, 7.0, 9.0, 23.0, 9.0, 11.49445101094145, 15.187421227395198, 12.89782670189837, 6.722138533356714, 23.439562876123297, 5.772469223433386, 8.611465070257054, 8.342753800127511, 8.209172550174731, 4.88064164374227, 3.8074981008257374, 4.846891328966943, 5.144133361801785, 2.6425340892988776, 10.87518298436949, 4.505538079564802, 3.1949813011507677, 2.990674575051314, 3.93659708317162, 4.146677688682896, 2.55983456059852, 7.472050311448174, 3.239001948487025, 3.3217222099029224, 3.0643440968045956, 2.1959301182649664, 2.585481657184571, 2.220473652413354, 1.9680459298148947, 2.046225726527644, 4.0651417381757105, 4.83435445121627, 24.768501864325287, 5.770728052272725, 7.165776054180889, 3.8978343834938527, 2.980173119569711, 2.962159245350709, 3.899212390709454, 5.769668610055593, 2.962367044933044, 4.863367361771313, 2.3716477573546735, 3.932178680689946, 2.9612947868826405, 3.624549249668048, 3.9878717150056846, 3.8978978523824366, 2.0343984945306492, 5.170835984599539, 3.890068903947831, 3.4600079868475273, 2.3200679952413936, 3.2488711005008897, 2.9625522642377096, 2.028535250808821, 2.0270536489409396, 6.550961474357182, 2.9692399932333537, 2.962388709794051, 2.962633431181764, 5.5206948068074215, 3.623592639255978, 2.314240452769394, 5.725096717249135, 10.351963155050122, 8.470370435118536, 5.3971170880793276, 6.655391221039641, 6.4200816375992025, 6.420072720844745, 6.654859188023656, 7.042447915194377, 5.727760449030839, 7.455834596362502, 3.8675545646663667, 3.865982243630302, 3.760085084338182, 4.634766385025478, 4.539640367893272, 4.793093168854212, 4.322884767128693, 2.0106040387418753, 2.937166732179203, 2.4363176871102312, 2.939121879206657, 2.0122701343123213, 2.008027542541284, 3.34023762011506, 6.583623236660026, 3.2528745294138437, 1.4212963310739684, 2.2377809476664723, 2.411582313019053, 2.5007988997469046, 5.478637624034622, 10.148685779706499, 3.784390160333763, 10.149081507785763, 4.6916407788401875, 6.291807617993609, 3.786840854741093, 4.696055529070889, 2.8703703553707496, 4.618756806305579, 3.7870302111131733, 2.547091385291944, 2.8779436379490853, 1.9515951288606415, 3.7583464884244013, 3.419389588581265, 4.69548624457357, 3.3957436204641973, 1.9692216791086432, 6.514045395932379, 1.9691368455093416, 1.9690312288935923, 1.9691576285257895, 1.9690832472037656, 2.878118166672004, 2.8905245336483705, 2.8780948313552903, 1.9688449109742092, 1.969186797671681, 1.96900266743824, 1.9689991428331115, 1.9686525161494324, 5.201278472928389, 6.739118279435765, 3.5759083338742204, 1.8591190308437016, 4.126183676148491, 2.297252465677252, 2.114150471706271, 1.8588564553558269, 1.0992849422567372, 1.047941680188617, 1.5324254442091798, 1.252584921279064, 1.0666822028841174, 5.1484357315513405, 1.0422086406716355, 1.260982005409064, 3.6359064087584088, 1.0176788555581966, 1.935733275191541, 1.0405225594931513, 1.0256162205368369, 1.044046911426848, 1.0924276870607061, 1.0191120548524193, 1.016149023152954, 1.9985873280402906, 1.25263314695704, 1.0299095175771567, 1.125418776428083, 0.14310468598329715, 0.1439947405500636, 0.14416796827588396, 0.14451831631522563, 0.14472380556557143, 4.707235627825116, 1.892515732173209, 0.6968683100058127, 0.09956218729306994, 0.09997771182847721, 0.0998194962020873, 0.09982606606426991, 0.09990843314503203, 0.09956228994716654, 0.09956203331192504, 0.09982638685832179, 0.10043134028136746, 0.09956170610199211, 0.09975380399614218, 0.09956265565238569, 0.09956235410597693, 0.09956231561069069, 0.099985500708057, 0.09986546598972249, 0.09956227711540447, 0.09956184083549391, 0.09956515143010937, 0.09956182158785079, 0.09991819811597143, 0.099753431875042, 0.09956232844245277, 0.09956329724048947, 0.09956203972780607, 0.09956257866181324, 0.09998492969464465, 0.0999465049831098, 0.10009885649423125, 0.100009489687257, 0.10009376870056835, 0.09998639893140228, 0.10001081135875077, 0.09981154050960053, 0.09998899094734151, 0.09992041801081047, 0.09989116159327852, 0.09982398731881369, 0.09977985247315528, 0.09977099214144221, 0.09975928315854839, 0.0997540798790268], \"Total\": [11.0, 11.0, 39.0, 29.0, 11.0, 10.0, 17.0, 6.0, 15.0, 14.0, 11.0, 15.0, 13.0, 10.0, 7.0, 11.0, 9.0, 10.0, 11.0, 10.0, 6.0, 11.0, 8.0, 12.0, 8.0, 7.0, 7.0, 9.0, 23.0, 9.0, 13.10855758972294, 17.68763626058009, 15.830584936906734, 8.329786617560913, 29.7511113594391, 7.384509785212283, 11.128112098001056, 12.146280278045838, 12.110630278775682, 7.403885449050341, 6.484369667461381, 9.329042569266896, 10.23449959232604, 5.5647394532647025, 23.374857912240934, 10.160751378698485, 7.431315334774544, 7.439916163228001, 10.202322452942882, 10.972342204260599, 7.36452520491002, 23.961865000767563, 11.107123387780971, 11.85717579583409, 11.051098343199978, 9.190960691811387, 11.081298217284132, 10.097328721768301, 10.109026993107328, 11.067043091608836, 39.711972504212994, 7.359110398016862, 39.711972504212994, 9.26353411510901, 11.843700735981662, 6.463030491529866, 5.4878430238491465, 5.527216396967215, 7.439916163228001, 11.121067666652705, 6.4160755940007705, 11.067043091608836, 5.5647394532647025, 9.329042569266896, 7.3847798456582225, 9.07640979053519, 10.160751378698485, 10.202322452942882, 5.460527236768783, 14.404755313084483, 11.175190942252769, 10.097328721768301, 7.431315334774544, 10.560245489232088, 10.170955129892844, 7.278236622488544, 7.357666374303916, 23.961865000767563, 11.051098343199978, 11.080083878450205, 11.081298217284132, 23.374857912240934, 15.438484173124223, 11.107123387780971, 6.434902857615324, 11.935809484106034, 10.0762767806828, 8.191109493201353, 10.170955129892844, 10.1389181745008, 10.139153757933611, 11.080083878450205, 11.943403288032856, 9.969187053394517, 13.757194775490861, 7.357666374303916, 7.3847798456582225, 7.245273253885834, 9.190960691811387, 10.23449959232604, 11.121067666652705, 10.109026993107328, 5.527216396967215, 8.19283596891136, 7.36452520491002, 9.26353411510901, 6.355224905879056, 6.463030491529866, 11.107123387780971, 23.374857912240934, 12.146280278045838, 6.241398556247171, 10.022481833902935, 11.081298217284132, 11.85717579583409, 39.711972504212994, 11.457071592629744, 5.433603528753459, 15.438484173124223, 7.278236622488544, 10.022481833902935, 6.355224905879056, 8.19283596891136, 5.460527236768783, 11.051098343199978, 9.07640979053519, 6.241398556247171, 7.966637478153469, 5.4878430238491465, 11.067043091608836, 10.109026993107328, 14.404755313084483, 10.972342204260599, 6.4160755940007705, 23.961865000767563, 7.245273253885834, 7.359110398016862, 7.36452520491002, 7.403885449050341, 11.081298217284132, 11.85717579583409, 13.757194775490861, 9.969187053394517, 10.097328721768301, 10.202322452942882, 11.107123387780971, 11.843700735981662, 6.955913508365367, 10.560245489232088, 7.966637478153469, 6.241398556247171, 14.404755313084483, 11.843700735981662, 11.175190942252769, 9.969187053394517, 7.245273253885834, 7.384509785212283, 10.972342204260599, 9.07640979053519, 8.191109493201353, 39.711972504212994, 8.329786617560913, 10.160751378698485, 29.7511113594391, 9.190960691811387, 17.68763626058009, 10.0762767806828, 10.097328721768301, 11.128112098001056, 11.85717579583409, 11.943403288032856, 11.935809484106034, 23.961865000767563, 15.438484173124223, 13.757194775490861, 15.830584936906734, 5.433603528753459, 5.4878430238491465, 5.5647394532647025, 6.463030491529866, 11.107123387780971, 11.175190942252769, 11.85717579583409, 11.457071592629744, 5.433603528753459, 5.460527236768783, 5.4878430238491465, 5.527216396967215, 5.5647394532647025, 6.241398556247171, 6.355224905879056, 6.4160755940007705, 6.484369667461381, 6.434902857615324, 6.463030491529866, 6.955913508365367, 7.245273253885834, 7.278236622488544, 7.357666374303916, 7.359110398016862, 7.36452520491002, 7.384509785212283, 7.3847798456582225, 7.403885449050341, 7.431315334774544, 7.439916163228001, 7.966637478153469, 8.191109493201353, 8.19283596891136, 8.329786617560913, 9.07640979053519, 9.329042569266896, 10.170955129892844, 10.097328721768301, 11.051098343199978, 10.1389181745008, 11.067043091608836, 9.26353411510901, 14.404755313084483, 11.107123387780971, 23.961865000767563, 23.374857912240934, 39.711972504212994, 15.438484173124223, 11.843700735981662, 10.202322452942882], \"Category\": [\"Default\", \"Default\", \"Default\", \"Default\", \"Default\", \"Default\", \"Default\", \"Default\", \"Default\", \"Default\", \"Default\", \"Default\", \"Default\", \"Default\", \"Default\", \"Default\", \"Default\", \"Default\", \"Default\", \"Default\", \"Default\", \"Default\", \"Default\", \"Default\", \"Default\", \"Default\", \"Default\", \"Default\", \"Default\", \"Default\", \"Topic1\", \"Topic1\", \"Topic1\", \"Topic1\", \"Topic1\", \"Topic1\", \"Topic1\", \"Topic1\", \"Topic1\", \"Topic1\", \"Topic1\", \"Topic1\", \"Topic1\", \"Topic1\", \"Topic1\", \"Topic1\", \"Topic1\", \"Topic1\", \"Topic1\", \"Topic1\", \"Topic1\", \"Topic1\", \"Topic1\", \"Topic1\", \"Topic1\", \"Topic1\", \"Topic1\", \"Topic1\", \"Topic1\", \"Topic1\", \"Topic1\", \"Topic2\", \"Topic2\", \"Topic2\", \"Topic2\", \"Topic2\", \"Topic2\", \"Topic2\", \"Topic2\", \"Topic2\", \"Topic2\", \"Topic2\", \"Topic2\", \"Topic2\", \"Topic2\", \"Topic2\", \"Topic2\", \"Topic2\", \"Topic2\", \"Topic2\", \"Topic2\", \"Topic2\", \"Topic2\", \"Topic2\", \"Topic2\", \"Topic2\", \"Topic2\", \"Topic2\", \"Topic2\", \"Topic2\", \"Topic2\", \"Topic2\", \"Topic2\", \"Topic2\", \"Topic3\", \"Topic3\", \"Topic3\", \"Topic3\", \"Topic3\", \"Topic3\", \"Topic3\", \"Topic3\", \"Topic3\", \"Topic3\", \"Topic3\", \"Topic3\", \"Topic3\", \"Topic3\", \"Topic3\", \"Topic3\", \"Topic3\", \"Topic3\", \"Topic3\", \"Topic3\", \"Topic3\", \"Topic3\", \"Topic3\", \"Topic3\", \"Topic3\", \"Topic3\", \"Topic3\", \"Topic3\", \"Topic3\", \"Topic3\", \"Topic3\", \"Topic3\", \"Topic4\", \"Topic4\", \"Topic4\", \"Topic4\", \"Topic4\", \"Topic4\", \"Topic4\", \"Topic4\", \"Topic4\", \"Topic4\", \"Topic4\", \"Topic4\", \"Topic4\", \"Topic4\", \"Topic4\", \"Topic4\", \"Topic4\", \"Topic4\", \"Topic4\", \"Topic4\", \"Topic4\", \"Topic4\", \"Topic4\", \"Topic4\", \"Topic4\", \"Topic4\", \"Topic4\", \"Topic4\", \"Topic4\", \"Topic4\", \"Topic4\", \"Topic5\", \"Topic5\", \"Topic5\", \"Topic5\", \"Topic5\", \"Topic5\", \"Topic5\", \"Topic5\", \"Topic5\", \"Topic5\", \"Topic5\", \"Topic5\", \"Topic5\", \"Topic5\", \"Topic5\", \"Topic5\", \"Topic5\", \"Topic5\", \"Topic5\", \"Topic5\", \"Topic5\", \"Topic5\", \"Topic5\", \"Topic5\", \"Topic5\", \"Topic5\", \"Topic5\", \"Topic5\", \"Topic5\", \"Topic5\", \"Topic5\", \"Topic5\", \"Topic5\", \"Topic5\", \"Topic6\", \"Topic6\", \"Topic6\", \"Topic6\", \"Topic6\", \"Topic6\", \"Topic6\", \"Topic6\", \"Topic6\", \"Topic6\", \"Topic6\", \"Topic6\", \"Topic6\", \"Topic6\", \"Topic6\", \"Topic6\", \"Topic6\", \"Topic6\", \"Topic6\", \"Topic6\", \"Topic6\", \"Topic6\", \"Topic6\", \"Topic6\", \"Topic6\", \"Topic6\", \"Topic6\", \"Topic6\", \"Topic6\", \"Topic6\", \"Topic6\", \"Topic6\", \"Topic6\", \"Topic6\", \"Topic6\", \"Topic6\", \"Topic6\", \"Topic6\", \"Topic6\", \"Topic6\", \"Topic6\", \"Topic6\", \"Topic6\", \"Topic6\", \"Topic6\"], \"logprob\": [30.0, 29.0, 28.0, 27.0, 26.0, 25.0, 24.0, 23.0, 22.0, 21.0, 20.0, 19.0, 18.0, 17.0, 16.0, 15.0, 14.0, 13.0, 12.0, 11.0, 10.0, 9.0, 8.0, 7.0, 6.0, 5.0, 4.0, 3.0, 2.0, 1.0, -2.8326, -2.554, -2.7174, -3.369, -2.12, -3.5213, -3.1213, -3.153, -3.1692, -3.6891, -3.9374, -3.6961, -3.6366, -4.3027, -2.8879, -3.7691, -4.1128, -4.1789, -3.9041, -3.8521, -4.3345, -3.2632, -4.0992, -4.0739, -4.1546, -4.4878, -4.3245, -4.4767, -4.5974, -4.5584, -3.872, -3.523, -1.8892, -3.346, -3.1295, -3.7383, -4.0068, -4.0129, -3.738, -3.3462, -4.0128, -3.517, -4.2352, -3.7296, -4.0131, -3.811, -3.7155, -3.7383, -4.3886, -3.4557, -3.7403, -3.8575, -4.2572, -3.9205, -4.0127, -4.3915, -4.3922, -3.2192, -4.0105, -4.0128, -4.0127, -3.3903, -3.8113, -4.2597, -3.3276, -2.7353, -2.9359, -3.3866, -3.1771, -3.2131, -3.2131, -3.1771, -3.1205, -3.3272, -3.0635, -3.7199, -3.7203, -3.7481, -3.5389, -3.5596, -3.5053, -3.6086, -4.3741, -3.995, -4.182, -3.9944, -4.3732, -4.3753, -3.8665, -3.1879, -3.893, -4.7209, -4.267, -4.1922, -4.1559, -3.3716, -2.554, -3.5405, -2.554, -3.3256, -3.0321, -3.5398, -3.3247, -3.8169, -3.3413, -3.5398, -3.9364, -3.8143, -4.2027, -3.5474, -3.6419, -3.3248, -3.6489, -4.1937, -2.9974, -4.1938, -4.1938, -4.1938, -4.1938, -3.8142, -3.8099, -3.8142, -4.1939, -4.1938, -4.1939, -4.1939, -4.194, -2.5263, -2.2673, -2.901, -3.5551, -2.7578, -3.3435, -3.4265, -3.5552, -4.0805, -4.1284, -3.7483, -3.95, -4.1106, -2.5365, -4.1339, -3.9433, -2.8843, -4.1577, -3.5147, -4.1355, -4.1499, -4.1321, -4.0868, -4.1563, -4.1592, -3.4828, -3.9499, -4.1457, -4.057, -6.1194, -6.1132, -6.112, -6.1095, -6.1081, -1.074, -1.9852, -2.9842, -4.93, -4.9259, -4.9275, -4.9274, -4.9266, -4.93, -4.93, -4.9274, -4.9214, -4.9301, -4.9281, -4.93, -4.93, -4.93, -4.9258, -4.927, -4.93, -4.93, -4.93, -4.93, -4.9265, -4.9281, -4.93, -4.93, -4.93, -4.93, -4.9258, -4.9262, -4.9247, -4.9256, -4.9247, -4.9258, -4.9256, -4.9275, -4.9258, -4.9265, -4.9267, -4.9274, -4.9279, -4.928, -4.9281, -4.9281], \"loglift\": [30.0, 29.0, 28.0, 27.0, 26.0, 25.0, 24.0, 23.0, 22.0, 21.0, 20.0, 19.0, 18.0, 17.0, 16.0, 15.0, 14.0, 13.0, 12.0, 11.0, 10.0, 9.0, 8.0, 7.0, 6.0, 5.0, 4.0, 3.0, 2.0, 1.0, 1.1845, 1.1635, 1.111, 1.1015, 1.0774, 1.0696, 1.0595, 0.9403, 0.9271, 0.8992, 0.7835, 0.6611, 0.628, 0.5712, 0.5507, 0.5027, 0.4718, 0.4045, 0.3636, 0.3428, 0.2591, 0.1506, 0.0836, 0.0434, 0.0332, -0.1157, -0.1395, -0.1987, -0.3205, -0.3721, -0.9633, 1.0713, 1.0195, 1.0182, 0.9891, 0.9859, 0.881, 0.8678, 0.8454, 0.8353, 0.7187, 0.6693, 0.6387, 0.6276, 0.5777, 0.5736, 0.5563, 0.5294, 0.5042, 0.467, 0.4363, 0.4205, 0.3274, 0.3127, 0.258, 0.214, 0.2024, 0.1947, 0.1773, 0.1724, 0.1724, 0.0484, 0.0421, -0.077, 1.4009, 1.3754, 1.3442, 1.1006, 1.0937, 1.0609, 1.0608, 1.008, 0.9896, 0.9636, 0.9052, 0.8747, 0.8706, 0.8619, 0.8332, 0.7049, 0.6761, 0.6683, 0.5066, 0.492, 0.4116, 0.3698, 0.3678, 0.3489, 0.3163, 0.2507, 0.2003, 0.0382, 0.0185, -0.0072, -0.0385, -0.463, 1.5977, 1.3572, 1.2994, 1.2798, 1.2533, 1.2012, 1.1624, 1.0758, 0.8465, 0.8448, 0.8227, 0.7007, 0.685, 0.6389, 0.635, 0.598, 0.5461, 0.5378, 0.4164, 0.4162, 0.4005, 0.3999, 0.3945, 0.3708, 0.3074, 0.1545, 0.0969, 0.0843, 0.0738, -0.0111, -0.0755, 2.1244, 1.9659, 1.6141, 1.204, 1.1649, 0.775, 0.7501, 0.7356, 0.5294, 0.4625, 0.4466, 0.4346, 0.3766, 0.3721, 0.3366, 0.3285, 0.3131, 0.2144, 0.2027, 0.1446, 0.1281, 0.0487, 0.0306, -0.0461, -0.0484, -0.0689, -0.0965, -0.177, -0.2287, -1.2217, -1.2254, -1.2381, -1.3853, -1.9254, 3.1026, 2.1322, 1.1675, -0.0323, -0.0331, -0.0397, -0.0468, -0.0527, -0.1709, -0.189, -0.1959, -0.2004, -0.2015, -0.2039, -0.2793, -0.3201, -0.3246, -0.3312, -0.3326, -0.3364, -0.3391, -0.3391, -0.3418, -0.3419, -0.3447, -0.415, -0.4428, -0.443, -0.4596, -0.5412, -0.569, -0.6539, -0.6475, -0.7369, -0.6519, -0.7392, -0.5633, -1.003, -0.7437, -1.5129, -1.4888, -2.0192, -1.0745, -0.8096, -0.6604]}, \"token.table\": {\"Topic\": [3, 4, 5, 2, 3, 1, 4, 5, 2, 3, 1, 3, 4, 5, 6, 1, 2, 3, 4, 5, 1, 2, 3, 5, 3, 4, 5, 2, 3, 3, 3, 5, 2, 4, 5, 1, 2, 4, 5, 3, 5, 2, 4, 1, 4, 5, 2, 4, 5, 2, 3, 1, 2, 3, 4, 5, 2, 3, 4, 1, 2, 4, 1, 2, 3, 4, 3, 4, 2, 5, 2, 4, 2, 4, 1, 2, 3, 2, 4, 2, 3, 1, 2, 4, 3, 4, 5, 1, 2, 3, 2, 3, 4, 1, 2, 4, 5, 1, 5, 1, 2, 3, 5, 1, 4, 2, 3, 4, 2, 4, 5, 1, 2, 4, 4, 6, 1, 3, 4, 1, 2, 3, 4, 5, 1, 2, 5, 1, 3, 4, 2, 3, 4, 1, 2, 3, 4, 1, 3, 1, 2, 2, 5, 6, 2, 3, 4, 2, 4, 5, 1, 3, 1, 4, 5, 2, 5, 1, 2, 3, 4, 5, 2, 4, 1, 5, 1, 2, 4, 1, 2, 3, 4, 1, 4, 3, 4, 5, 1, 5, 1, 2, 2, 3, 1, 3, 4, 2, 3, 4], \"Freq\": [0.16022050041958547, 0.4806615012587564, 0.32044100083917093, 0.4062409527027143, 0.5416546036036191, 0.8087625215077292, 0.08986250238974769, 0.08986250238974769, 0.6189047081306835, 0.3094523540653418, 0.2530113453368906, 0.2530113453368906, 0.2530113453368906, 0.08433711511229688, 0.16867423022459377, 0.08372822853616504, 0.1674564570723301, 0.5860975997531553, 0.08372822853616504, 0.08372822853616504, 0.10072529133564556, 0.6295330708477848, 0.12590661416955695, 0.12590661416955695, 0.6018544910296366, 0.20061816367654553, 0.20061816367654553, 0.542768689433998, 0.3618457929559987, 0.932415008083511, 0.8378149813229009, 0.08378149813229009, 0.5910314821391683, 0.1688661377540481, 0.1688661377540481, 0.36455297561233424, 0.18227648780616712, 0.2734147317092507, 0.18227648780616712, 0.793944050379479, 0.09924300629743488, 0.5466628668062401, 0.3644419112041601, 0.12552347244897893, 0.3765704173469368, 0.5020938897959157, 0.34710759685437187, 0.34710759685437187, 0.2776860774834975, 0.5395165446202093, 0.44959712051684103, 0.19807218870554397, 0.29710828305831594, 0.09903609435277198, 0.19807218870554397, 0.09903609435277198, 0.19725970419901057, 0.5917791125970318, 0.09862985209950528, 0.3920675923006326, 0.3920675923006326, 0.1960337961503163, 0.27072640237411255, 0.27072640237411255, 0.18048426824940836, 0.27072640237411255, 0.3661735705906768, 0.6102892843177946, 0.2840843049585348, 0.6628633782365813, 0.6794299486725193, 0.2717719794690077, 0.27479183540424224, 0.6869795885106056, 0.47059109583889813, 0.25668605227576263, 0.2994670609883897, 0.18403992759284246, 0.7361597103713698, 0.6477009665473007, 0.32385048327365035, 0.18071674461233678, 0.45179186153084194, 0.36143348922467355, 0.6104179176398529, 0.12208358352797057, 0.12208358352797057, 0.4036970394677803, 0.26913135964518686, 0.26913135964518686, 0.19725512086598496, 0.5917653625979549, 0.09862756043299248, 0.7730803640282439, 0.03361218974035843, 0.03361218974035843, 0.1344487589614337, 0.8125116188504742, 0.1354186031417457, 0.21760510865658297, 0.10880255432829149, 0.5440127716414574, 0.10880255432829149, 0.6753210911226787, 0.2701284364490715, 0.2718253177372715, 0.543650635474543, 0.13591265886863574, 0.2590927940298258, 0.6477319850745645, 0.06477319850745646, 0.2714662295848608, 0.2714662295848608, 0.45244371597476796, 0.872823384156291, 0.0872823384156291, 0.19784297750551727, 0.39568595501103454, 0.2967644662582759, 0.29213085040650094, 0.29213085040650094, 0.041732978629500136, 0.29213085040650094, 0.08346595725900027, 0.4920895919648476, 0.39367167357187804, 0.09841791839296951, 0.6605766847676202, 0.16514417119190505, 0.16514417119190505, 0.46757553835635807, 0.15585851278545268, 0.31171702557090536, 0.5391087983894682, 0.3594058655929788, 0.31470168713460495, 0.6294033742692099, 0.6586378559417768, 0.24698919597816632, 0.4032303502057706, 0.5376404669410275, 0.35793571856353923, 0.17896785928176961, 0.44741964820442404, 0.2707560730505604, 0.6317641704513075, 0.0902520243501868, 0.44070288718907, 0.44070288718907, 0.1101757217972675, 0.48854367083555944, 0.48854367083555944, 0.8211951770456927, 0.06316885977274558, 0.06316885977274558, 0.14376256961754533, 0.7188128480877266, 0.07268923761852603, 0.07268923761852603, 0.5088246633296822, 0.21806771285557808, 0.07268923761852603, 0.36626499846624366, 0.5493974976993654, 0.8403576611725626, 0.12005109445322323, 0.6168679771716334, 0.15421699429290836, 0.15421699429290836, 0.2700969364669454, 0.1800646243112969, 0.2700969364669454, 0.1800646243112969, 0.8391464831053539, 0.07628604391866854, 0.5520840774162235, 0.2760420387081117, 0.13802101935405586, 0.8480500039131885, 0.11307333385509181, 0.535960680088623, 0.42876854407089837, 0.2949575493832315, 0.6882342818942068, 0.40735823648208347, 0.2715721576547223, 0.2715721576547223, 0.09977568596006943, 0.19955137192013886, 0.5986541157604166], \"Term\": [\"begin\", \"begin\", \"begin\", \"big\", \"big\", \"break\", \"break\", \"break\", \"career\", \"career\", \"come\", \"come\", \"come\", \"come\", \"come\", \"country\", \"country\", \"country\", \"country\", \"country\", \"cup\", \"cup\", \"cup\", \"cup\", \"di\", \"di\", \"di\", \"early\", \"early\", \"end\", \"energy\", \"energy\", \"european\", \"european\", \"european\", \"face\", \"face\", \"face\", \"face\", \"finish\", \"finish\", \"focus\", \"focus\", \"follow\", \"follow\", \"follow\", \"football\", \"football\", \"football\", \"friday\", \"friday\", \"give\", \"give\", \"give\", \"give\", \"give\", \"go\", \"go\", \"go\", \"head\", \"head\", \"head\", \"help\", \"help\", \"help\", \"help\", \"high\", \"high\", \"hold\", \"hold\", \"hope\", \"hope\", \"include\", \"include\", \"lead\", \"lead\", \"lead\", \"life\", \"life\", \"live\", \"live\", \"long\", \"long\", \"long\", \"look\", \"look\", \"look\", \"lot\", \"lot\", \"lot\", \"make\", \"make\", \"make\", \"match\", \"match\", \"match\", \"match\", \"matteo\", \"matteo\", \"minute\", \"minute\", \"minute\", \"minute\", \"mixed\", \"mixed\", \"need\", \"need\", \"need\", \"new\", \"new\", \"new\", \"old\", \"old\", \"old\", \"people\", \"people\", \"place\", \"place\", \"place\", \"play\", \"play\", \"play\", \"play\", \"play\", \"player\", \"player\", \"player\", \"point\", \"point\", \"point\", \"possible\", \"possible\", \"possible\", \"record\", \"record\", \"result\", \"result\", \"saturday\", \"saturday\", \"score\", \"score\", \"season\", \"season\", \"season\", \"second\", \"second\", \"second\", \"serie\", \"serie\", \"serie\", \"serve\", \"serve\", \"set\", \"set\", \"set\", \"squad\", \"squad\", \"start\", \"start\", \"start\", \"start\", \"start\", \"statement\", \"statement\", \"states\", \"states\", \"super\", \"super\", \"super\", \"take\", \"take\", \"take\", \"take\", \"think\", \"think\", \"today\", \"today\", \"today\", \"united\", \"united\", \"victory\", \"victory\", \"way\", \"way\", \"week\", \"week\", \"week\", \"work\", \"work\", \"work\"]}, \"R\": 30, \"lambda.step\": 0.01, \"plot.opts\": {\"xlab\": \"PC1\", \"ylab\": \"PC2\"}, \"topic.order\": [4, 5, 1, 3, 2, 6]};\n",
              "\n",
              "function LDAvis_load_lib(url, callback){\n",
              "  var s = document.createElement('script');\n",
              "  s.src = url;\n",
              "  s.async = true;\n",
              "  s.onreadystatechange = s.onload = callback;\n",
              "  s.onerror = function(){console.warn(\"failed to load library \" + url);};\n",
              "  document.getElementsByTagName(\"head\")[0].appendChild(s);\n",
              "}\n",
              "\n",
              "if(typeof(LDAvis) !== \"undefined\"){\n",
              "   // already loaded: just create the visualization\n",
              "   !function(LDAvis){\n",
              "       new LDAvis(\"#\" + \"ldavis_el3391407037697507684546570221\", ldavis_el3391407037697507684546570221_data);\n",
              "   }(LDAvis);\n",
              "}else if(typeof define === \"function\" && define.amd){\n",
              "   // require.js is available: use it to load d3/LDAvis\n",
              "   require.config({paths: {d3: \"https://d3js.org/d3.v5\"}});\n",
              "   require([\"d3\"], function(d3){\n",
              "      window.d3 = d3;\n",
              "      LDAvis_load_lib(\"https://cdn.jsdelivr.net/gh/bmabey/pyLDAvis@3.3.1/pyLDAvis/js/ldavis.v3.0.0.js\", function(){\n",
              "        new LDAvis(\"#\" + \"ldavis_el3391407037697507684546570221\", ldavis_el3391407037697507684546570221_data);\n",
              "      });\n",
              "    });\n",
              "}else{\n",
              "    // require.js not available: dynamically load d3 & LDAvis\n",
              "    LDAvis_load_lib(\"https://d3js.org/d3.v5.js\", function(){\n",
              "         LDAvis_load_lib(\"https://cdn.jsdelivr.net/gh/bmabey/pyLDAvis@3.3.1/pyLDAvis/js/ldavis.v3.0.0.js\", function(){\n",
              "                 new LDAvis(\"#\" + \"ldavis_el3391407037697507684546570221\", ldavis_el3391407037697507684546570221_data);\n",
              "            })\n",
              "         });\n",
              "}\n",
              "</script>"
            ]
          },
          "metadata": {},
          "execution_count": 124
        }
      ]
    },
    {
      "cell_type": "code",
      "source": [
        "#Creating a new column for topics\n",
        "news_df['topic'] = [sorted(lda_model[corpus][text])[0][0] for text in range(len(news_df['Article']))]\n"
      ],
      "metadata": {
        "id": "0G8kSK2T_1yi"
      },
      "execution_count": 125,
      "outputs": []
    },
    {
      "cell_type": "code",
      "source": [
        "#Counting frequency of every topic in a document\n",
        "news_df.topic.value_counts()"
      ],
      "metadata": {
        "colab": {
          "base_uri": "https://localhost:8080/"
        },
        "id": "ZeXE1Gjt_4VC",
        "outputId": "5633050a-41e5-4499-c0a0-7fddb22d1ac6"
      },
      "execution_count": 126,
      "outputs": [
        {
          "output_type": "execute_result",
          "data": {
            "text/plain": [
              "0    10\n",
              "2     3\n",
              "4     2\n",
              "1     2\n",
              "3     2\n",
              "Name: topic, dtype: int64"
            ]
          },
          "metadata": {},
          "execution_count": 126
        }
      ]
    },
    {
      "cell_type": "code",
      "source": [
        "news_df.head()"
      ],
      "metadata": {
        "colab": {
          "base_uri": "https://localhost:8080/",
          "height": 333
        },
        "id": "vrJe_bXN_5SK",
        "outputId": "ee5b964a-0973-4628-8a49-f3b7d3a64da7"
      },
      "execution_count": 127,
      "outputs": [
        {
          "output_type": "execute_result",
          "data": {
            "text/plain": [
              "         Date       Media                                              Title  \\\n",
              "0  1 week ago     Reuters      Former star Italy striker Vialli dies aged 58   \n",
              "1  6 days ago      Forbes  Italy Mourns The Death Of Legendary Striker Gi...   \n",
              "2  1 week ago  Al Jazeera  Italy’s football star Gianluca Vialli dies age...   \n",
              "3  6 days ago    ATP Tour  United Cup SF Preview: Will Berrettini Seal It...   \n",
              "4  6 days ago     AP News  Italy to face US in United Cup final after Bro...   \n",
              "\n",
              "                                             Article  \\\n",
              "0  \\n\\n\\n\\n\\n\\n\\n\\n\\n\\n\\n\\n\\n\\nMILAN, Jan 6 (Reut...   \n",
              "1  LONDON, ENGLAND - JULY 11: Gianluca Vialli, De...   \n",
              "2  Vialli, who played with Sampdoria, Juventus an...   \n",
              "3  Editor's Note: Taylor Fritz sealed the United ...   \n",
              "4  Italy to face US in United Cup final after Bro...   \n",
              "\n",
              "                                             Summary  \\\n",
              "0  Sampdoria, Juventus and Chelsea posted message...   \n",
              "1  LONDON, ENGLAND - JULY 11: Gianluca Vialli, De...   \n",
              "2  Vialli, who played with Sampdoria, Juventus an...   \n",
              "3  Editor's Note: Taylor Fritz sealed the United ...   \n",
              "4  Italy to face US in United Cup final after Bro...   \n",
              "\n",
              "                                              tokens  topic  \n",
              "0  [milan, jan, reuters, italy, striker, gianluca...      4  \n",
              "1  [london, england, july, gianluca, vialli, dele...      1  \n",
              "2  [vialli, play, sampdoria, juventus, chelsea, d...      4  \n",
              "3  [editor, note, taylor, fritz, seal, united, st...      3  \n",
              "4  [italy, face, united, cup, final, bronzetti, v...      3  "
            ],
            "text/html": [
              "\n",
              "  <div id=\"df-a55366fc-3608-431f-a46f-5100e4c71f72\">\n",
              "    <div class=\"colab-df-container\">\n",
              "      <div>\n",
              "<style scoped>\n",
              "    .dataframe tbody tr th:only-of-type {\n",
              "        vertical-align: middle;\n",
              "    }\n",
              "\n",
              "    .dataframe tbody tr th {\n",
              "        vertical-align: top;\n",
              "    }\n",
              "\n",
              "    .dataframe thead th {\n",
              "        text-align: right;\n",
              "    }\n",
              "</style>\n",
              "<table border=\"1\" class=\"dataframe\">\n",
              "  <thead>\n",
              "    <tr style=\"text-align: right;\">\n",
              "      <th></th>\n",
              "      <th>Date</th>\n",
              "      <th>Media</th>\n",
              "      <th>Title</th>\n",
              "      <th>Article</th>\n",
              "      <th>Summary</th>\n",
              "      <th>tokens</th>\n",
              "      <th>topic</th>\n",
              "    </tr>\n",
              "  </thead>\n",
              "  <tbody>\n",
              "    <tr>\n",
              "      <th>0</th>\n",
              "      <td>1 week ago</td>\n",
              "      <td>Reuters</td>\n",
              "      <td>Former star Italy striker Vialli dies aged 58</td>\n",
              "      <td>\\n\\n\\n\\n\\n\\n\\n\\n\\n\\n\\n\\n\\n\\nMILAN, Jan 6 (Reut...</td>\n",
              "      <td>Sampdoria, Juventus and Chelsea posted message...</td>\n",
              "      <td>[milan, jan, reuters, italy, striker, gianluca...</td>\n",
              "      <td>4</td>\n",
              "    </tr>\n",
              "    <tr>\n",
              "      <th>1</th>\n",
              "      <td>6 days ago</td>\n",
              "      <td>Forbes</td>\n",
              "      <td>Italy Mourns The Death Of Legendary Striker Gi...</td>\n",
              "      <td>LONDON, ENGLAND - JULY 11: Gianluca Vialli, De...</td>\n",
              "      <td>LONDON, ENGLAND - JULY 11: Gianluca Vialli, De...</td>\n",
              "      <td>[london, england, july, gianluca, vialli, dele...</td>\n",
              "      <td>1</td>\n",
              "    </tr>\n",
              "    <tr>\n",
              "      <th>2</th>\n",
              "      <td>1 week ago</td>\n",
              "      <td>Al Jazeera</td>\n",
              "      <td>Italy’s football star Gianluca Vialli dies age...</td>\n",
              "      <td>Vialli, who played with Sampdoria, Juventus an...</td>\n",
              "      <td>Vialli, who played with Sampdoria, Juventus an...</td>\n",
              "      <td>[vialli, play, sampdoria, juventus, chelsea, d...</td>\n",
              "      <td>4</td>\n",
              "    </tr>\n",
              "    <tr>\n",
              "      <th>3</th>\n",
              "      <td>6 days ago</td>\n",
              "      <td>ATP Tour</td>\n",
              "      <td>United Cup SF Preview: Will Berrettini Seal It...</td>\n",
              "      <td>Editor's Note: Taylor Fritz sealed the United ...</td>\n",
              "      <td>Editor's Note: Taylor Fritz sealed the United ...</td>\n",
              "      <td>[editor, note, taylor, fritz, seal, united, st...</td>\n",
              "      <td>3</td>\n",
              "    </tr>\n",
              "    <tr>\n",
              "      <th>4</th>\n",
              "      <td>6 days ago</td>\n",
              "      <td>AP News</td>\n",
              "      <td>Italy to face US in United Cup final after Bro...</td>\n",
              "      <td>Italy to face US in United Cup final after Bro...</td>\n",
              "      <td>Italy to face US in United Cup final after Bro...</td>\n",
              "      <td>[italy, face, united, cup, final, bronzetti, v...</td>\n",
              "      <td>3</td>\n",
              "    </tr>\n",
              "  </tbody>\n",
              "</table>\n",
              "</div>\n",
              "      <button class=\"colab-df-convert\" onclick=\"convertToInteractive('df-a55366fc-3608-431f-a46f-5100e4c71f72')\"\n",
              "              title=\"Convert this dataframe to an interactive table.\"\n",
              "              style=\"display:none;\">\n",
              "        \n",
              "  <svg xmlns=\"http://www.w3.org/2000/svg\" height=\"24px\"viewBox=\"0 0 24 24\"\n",
              "       width=\"24px\">\n",
              "    <path d=\"M0 0h24v24H0V0z\" fill=\"none\"/>\n",
              "    <path d=\"M18.56 5.44l.94 2.06.94-2.06 2.06-.94-2.06-.94-.94-2.06-.94 2.06-2.06.94zm-11 1L8.5 8.5l.94-2.06 2.06-.94-2.06-.94L8.5 2.5l-.94 2.06-2.06.94zm10 10l.94 2.06.94-2.06 2.06-.94-2.06-.94-.94-2.06-.94 2.06-2.06.94z\"/><path d=\"M17.41 7.96l-1.37-1.37c-.4-.4-.92-.59-1.43-.59-.52 0-1.04.2-1.43.59L10.3 9.45l-7.72 7.72c-.78.78-.78 2.05 0 2.83L4 21.41c.39.39.9.59 1.41.59.51 0 1.02-.2 1.41-.59l7.78-7.78 2.81-2.81c.8-.78.8-2.07 0-2.86zM5.41 20L4 18.59l7.72-7.72 1.47 1.35L5.41 20z\"/>\n",
              "  </svg>\n",
              "      </button>\n",
              "      \n",
              "  <style>\n",
              "    .colab-df-container {\n",
              "      display:flex;\n",
              "      flex-wrap:wrap;\n",
              "      gap: 12px;\n",
              "    }\n",
              "\n",
              "    .colab-df-convert {\n",
              "      background-color: #E8F0FE;\n",
              "      border: none;\n",
              "      border-radius: 50%;\n",
              "      cursor: pointer;\n",
              "      display: none;\n",
              "      fill: #1967D2;\n",
              "      height: 32px;\n",
              "      padding: 0 0 0 0;\n",
              "      width: 32px;\n",
              "    }\n",
              "\n",
              "    .colab-df-convert:hover {\n",
              "      background-color: #E2EBFA;\n",
              "      box-shadow: 0px 1px 2px rgba(60, 64, 67, 0.3), 0px 1px 3px 1px rgba(60, 64, 67, 0.15);\n",
              "      fill: #174EA6;\n",
              "    }\n",
              "\n",
              "    [theme=dark] .colab-df-convert {\n",
              "      background-color: #3B4455;\n",
              "      fill: #D2E3FC;\n",
              "    }\n",
              "\n",
              "    [theme=dark] .colab-df-convert:hover {\n",
              "      background-color: #434B5C;\n",
              "      box-shadow: 0px 1px 3px 1px rgba(0, 0, 0, 0.15);\n",
              "      filter: drop-shadow(0px 1px 2px rgba(0, 0, 0, 0.3));\n",
              "      fill: #FFFFFF;\n",
              "    }\n",
              "  </style>\n",
              "\n",
              "      <script>\n",
              "        const buttonEl =\n",
              "          document.querySelector('#df-a55366fc-3608-431f-a46f-5100e4c71f72 button.colab-df-convert');\n",
              "        buttonEl.style.display =\n",
              "          google.colab.kernel.accessAllowed ? 'block' : 'none';\n",
              "\n",
              "        async function convertToInteractive(key) {\n",
              "          const element = document.querySelector('#df-a55366fc-3608-431f-a46f-5100e4c71f72');\n",
              "          const dataTable =\n",
              "            await google.colab.kernel.invokeFunction('convertToInteractive',\n",
              "                                                     [key], {});\n",
              "          if (!dataTable) return;\n",
              "\n",
              "          const docLinkHtml = 'Like what you see? Visit the ' +\n",
              "            '<a target=\"_blank\" href=https://colab.research.google.com/notebooks/data_table.ipynb>data table notebook</a>'\n",
              "            + ' to learn more about interactive tables.';\n",
              "          element.innerHTML = '';\n",
              "          dataTable['output_type'] = 'display_data';\n",
              "          await google.colab.output.renderOutput(dataTable, element);\n",
              "          const docLink = document.createElement('div');\n",
              "          docLink.innerHTML = docLinkHtml;\n",
              "          element.appendChild(docLink);\n",
              "        }\n",
              "      </script>\n",
              "    </div>\n",
              "  </div>\n",
              "  "
            ]
          },
          "metadata": {},
          "execution_count": 127
        }
      ]
    },
    {
      "cell_type": "code",
      "source": [],
      "metadata": {
        "id": "teNjBzNC_8hA"
      },
      "execution_count": 127,
      "outputs": []
    }
  ]
}